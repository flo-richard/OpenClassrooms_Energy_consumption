{
 "cells": [
  {
   "cell_type": "code",
   "execution_count": 1,
   "metadata": {},
   "outputs": [
    {
     "data": {
      "text/plain": [
       "<module 'Projet4_utils' from 'e:\\\\Git\\\\OpenClassrooms_project4\\\\Projet4_utils.py'>"
      ]
     },
     "execution_count": 1,
     "metadata": {},
     "output_type": "execute_result"
    }
   ],
   "source": [
    "import os\n",
    "import pandas as pd\n",
    "import numpy as np\n",
    "import matplotlib.pyplot as plt\n",
    "import matplotlib\n",
    "import seaborn as sns\n",
    "from scipy.stats import f_oneway\n",
    "import ast\n",
    "\n",
    "import sklearn\n",
    "\n",
    "import importlib\n",
    "\n",
    "import Projet4_utils as utils\n",
    "importlib.reload(utils)"
   ]
  },
  {
   "cell_type": "markdown",
   "metadata": {},
   "source": [
    "# Read data and concatenate dataframes\n",
    "#### The data from 2015 and 2016 are given in 2 different files. We first need to concatenate it into one single dataframe. To do that, we need to check the features available in each file, for instance those corresponding to the same measurement but with different names"
   ]
  },
  {
   "cell_type": "code",
   "execution_count": 2,
   "metadata": {},
   "outputs": [],
   "source": [
    "PATH = \"./Data\"\n",
    "\n",
    "df2015 = pd.read_csv(os.path.join(PATH, \"2015-building-energy-benchmarking.csv\"), low_memory = False)\n",
    "df2016 = pd.read_csv(os.path.join(PATH, \"2016-building-energy-benchmarking.csv\"), low_memory = False)"
   ]
  },
  {
   "cell_type": "code",
   "execution_count": 3,
   "metadata": {},
   "outputs": [
    {
     "name": "stdout",
     "output_type": "stream",
     "text": [
      "(3340, 47)\n",
      "(3376, 46)\n"
     ]
    }
   ],
   "source": [
    "print(df2015.shape)\n",
    "print(df2016.shape)"
   ]
  },
  {
   "cell_type": "code",
   "execution_count": 4,
   "metadata": {},
   "outputs": [
    {
     "name": "stdout",
     "output_type": "stream",
     "text": [
      "Variables in 2015 but not in 2016 :\n"
     ]
    },
    {
     "data": {
      "text/plain": [
       "['GHGEmissionsIntensity(kgCO2e/ft2)',\n",
       " 'SPD Beats',\n",
       " 'GHGEmissions(MetricTonsCO2e)',\n",
       " '2010 Census Tracts',\n",
       " 'Seattle Police Department Micro Community Policing Plan Areas',\n",
       " 'City Council Districts',\n",
       " 'OtherFuelUse(kBtu)',\n",
       " 'Location',\n",
       " 'Comment',\n",
       " 'Zip Codes']"
      ]
     },
     "execution_count": 4,
     "metadata": {},
     "output_type": "execute_result"
    }
   ],
   "source": [
    "print(\"Variables in 2015 but not in 2016 :\")\n",
    "utils.diff_lists(df2015.columns.tolist(), df2016.columns.tolist())[0]"
   ]
  },
  {
   "cell_type": "code",
   "execution_count": 5,
   "metadata": {
    "scrolled": true
   },
   "outputs": [
    {
     "name": "stdout",
     "output_type": "stream",
     "text": [
      "Variables in 2016 but not in 2015 :\n"
     ]
    },
    {
     "data": {
      "text/plain": [
       "['Comments',\n",
       " 'State',\n",
       " 'Address',\n",
       " 'Latitude',\n",
       " 'TotalGHGEmissions',\n",
       " 'ZipCode',\n",
       " 'City',\n",
       " 'GHGEmissionsIntensity',\n",
       " 'Longitude']"
      ]
     },
     "execution_count": 5,
     "metadata": {},
     "output_type": "execute_result"
    }
   ],
   "source": [
    "print(\"Variables in 2016 but not in 2015 :\")\n",
    "utils.diff_lists(df2015.columns.tolist(), df2016.columns.tolist())[1]"
   ]
  },
  {
   "cell_type": "markdown",
   "metadata": {},
   "source": [
    "#### The location feature in the 2015 df regroups sevral information that are in separate features in the 2016 df. We separate them in order to match the 2016 format"
   ]
  },
  {
   "cell_type": "code",
   "execution_count": 6,
   "metadata": {},
   "outputs": [
    {
     "name": "stdout",
     "output_type": "stream",
     "text": [
      "0    {'latitude': '47.61219025', 'longitude': '-122...\n",
      "1    {'latitude': '47.61310583', 'longitude': '-122...\n",
      "2    {'latitude': '47.61334897', 'longitude': '-122...\n",
      "3    {'latitude': '47.61421585', 'longitude': '-122...\n",
      "4    {'latitude': '47.6137544', 'longitude': '-122....\n",
      "Name: Location, dtype: object\n"
     ]
    }
   ],
   "source": [
    "print(df2015['Location'].head())"
   ]
  },
  {
   "cell_type": "code",
   "execution_count": 7,
   "metadata": {},
   "outputs": [
    {
     "data": {
      "text/html": [
       "<div>\n",
       "<style scoped>\n",
       "    .dataframe tbody tr th:only-of-type {\n",
       "        vertical-align: middle;\n",
       "    }\n",
       "\n",
       "    .dataframe tbody tr th {\n",
       "        vertical-align: top;\n",
       "    }\n",
       "\n",
       "    .dataframe thead th {\n",
       "        text-align: right;\n",
       "    }\n",
       "</style>\n",
       "<table border=\"1\" class=\"dataframe\">\n",
       "  <thead>\n",
       "    <tr style=\"text-align: right;\">\n",
       "      <th></th>\n",
       "      <th>OSEBuildingID</th>\n",
       "      <th>DataYear</th>\n",
       "      <th>BuildingType</th>\n",
       "      <th>PrimaryPropertyType</th>\n",
       "      <th>PropertyName</th>\n",
       "      <th>TaxParcelIdentificationNumber</th>\n",
       "      <th>CouncilDistrictCode</th>\n",
       "      <th>Neighborhood</th>\n",
       "      <th>YearBuilt</th>\n",
       "      <th>NumberofBuildings</th>\n",
       "      <th>...</th>\n",
       "      <th>Seattle Police Department Micro Community Policing Plan Areas</th>\n",
       "      <th>City Council Districts</th>\n",
       "      <th>SPD Beats</th>\n",
       "      <th>Zip Codes</th>\n",
       "      <th>latitude</th>\n",
       "      <th>longitude</th>\n",
       "      <th>address</th>\n",
       "      <th>city</th>\n",
       "      <th>state</th>\n",
       "      <th>zip</th>\n",
       "    </tr>\n",
       "  </thead>\n",
       "  <tbody>\n",
       "    <tr>\n",
       "      <th>0</th>\n",
       "      <td>1</td>\n",
       "      <td>2015</td>\n",
       "      <td>NonResidential</td>\n",
       "      <td>Hotel</td>\n",
       "      <td>MAYFLOWER PARK HOTEL</td>\n",
       "      <td>659000030</td>\n",
       "      <td>7</td>\n",
       "      <td>DOWNTOWN</td>\n",
       "      <td>1927</td>\n",
       "      <td>1</td>\n",
       "      <td>...</td>\n",
       "      <td>14.0</td>\n",
       "      <td>NaN</td>\n",
       "      <td>31.0</td>\n",
       "      <td>18081</td>\n",
       "      <td>47.61219025</td>\n",
       "      <td>-122.33799744</td>\n",
       "      <td>405 OLIVE WAY</td>\n",
       "      <td>SEATTLE</td>\n",
       "      <td>WA</td>\n",
       "      <td>98101</td>\n",
       "    </tr>\n",
       "    <tr>\n",
       "      <th>1</th>\n",
       "      <td>2</td>\n",
       "      <td>2015</td>\n",
       "      <td>NonResidential</td>\n",
       "      <td>Hotel</td>\n",
       "      <td>PARAMOUNT HOTEL</td>\n",
       "      <td>659000220</td>\n",
       "      <td>7</td>\n",
       "      <td>DOWNTOWN</td>\n",
       "      <td>1996</td>\n",
       "      <td>1</td>\n",
       "      <td>...</td>\n",
       "      <td>14.0</td>\n",
       "      <td>NaN</td>\n",
       "      <td>31.0</td>\n",
       "      <td>18081</td>\n",
       "      <td>47.61310583</td>\n",
       "      <td>-122.33335756</td>\n",
       "      <td>724 PINE ST</td>\n",
       "      <td>SEATTLE</td>\n",
       "      <td>WA</td>\n",
       "      <td>98101</td>\n",
       "    </tr>\n",
       "    <tr>\n",
       "      <th>2</th>\n",
       "      <td>3</td>\n",
       "      <td>2015</td>\n",
       "      <td>NonResidential</td>\n",
       "      <td>Hotel</td>\n",
       "      <td>WESTIN HOTEL</td>\n",
       "      <td>659000475</td>\n",
       "      <td>7</td>\n",
       "      <td>DOWNTOWN</td>\n",
       "      <td>1969</td>\n",
       "      <td>1</td>\n",
       "      <td>...</td>\n",
       "      <td>56.0</td>\n",
       "      <td>NaN</td>\n",
       "      <td>31.0</td>\n",
       "      <td>18081</td>\n",
       "      <td>47.61334897</td>\n",
       "      <td>-122.33769944</td>\n",
       "      <td>1900 5TH AVE</td>\n",
       "      <td>SEATTLE</td>\n",
       "      <td>WA</td>\n",
       "      <td>98101</td>\n",
       "    </tr>\n",
       "    <tr>\n",
       "      <th>3</th>\n",
       "      <td>5</td>\n",
       "      <td>2015</td>\n",
       "      <td>NonResidential</td>\n",
       "      <td>Hotel</td>\n",
       "      <td>HOTEL MAX</td>\n",
       "      <td>659000640</td>\n",
       "      <td>7</td>\n",
       "      <td>DOWNTOWN</td>\n",
       "      <td>1926</td>\n",
       "      <td>1</td>\n",
       "      <td>...</td>\n",
       "      <td>56.0</td>\n",
       "      <td>NaN</td>\n",
       "      <td>31.0</td>\n",
       "      <td>18081</td>\n",
       "      <td>47.61421585</td>\n",
       "      <td>-122.33660889</td>\n",
       "      <td>620 STEWART ST</td>\n",
       "      <td>SEATTLE</td>\n",
       "      <td>WA</td>\n",
       "      <td>98101</td>\n",
       "    </tr>\n",
       "    <tr>\n",
       "      <th>4</th>\n",
       "      <td>8</td>\n",
       "      <td>2015</td>\n",
       "      <td>NonResidential</td>\n",
       "      <td>Hotel</td>\n",
       "      <td>WARWICK SEATTLE HOTEL</td>\n",
       "      <td>659000970</td>\n",
       "      <td>7</td>\n",
       "      <td>DOWNTOWN</td>\n",
       "      <td>1980</td>\n",
       "      <td>1</td>\n",
       "      <td>...</td>\n",
       "      <td>56.0</td>\n",
       "      <td>NaN</td>\n",
       "      <td>31.0</td>\n",
       "      <td>19576</td>\n",
       "      <td>47.6137544</td>\n",
       "      <td>-122.3409238</td>\n",
       "      <td>401 LENORA ST</td>\n",
       "      <td>SEATTLE</td>\n",
       "      <td>WA</td>\n",
       "      <td>98121</td>\n",
       "    </tr>\n",
       "  </tbody>\n",
       "</table>\n",
       "<p>5 rows × 52 columns</p>\n",
       "</div>"
      ],
      "text/plain": [
       "   OSEBuildingID  DataYear    BuildingType PrimaryPropertyType  \\\n",
       "0              1      2015  NonResidential               Hotel   \n",
       "1              2      2015  NonResidential               Hotel   \n",
       "2              3      2015  NonResidential               Hotel   \n",
       "3              5      2015  NonResidential               Hotel   \n",
       "4              8      2015  NonResidential               Hotel   \n",
       "\n",
       "            PropertyName TaxParcelIdentificationNumber  CouncilDistrictCode  \\\n",
       "0   MAYFLOWER PARK HOTEL                     659000030                    7   \n",
       "1        PARAMOUNT HOTEL                     659000220                    7   \n",
       "2           WESTIN HOTEL                     659000475                    7   \n",
       "3              HOTEL MAX                     659000640                    7   \n",
       "4  WARWICK SEATTLE HOTEL                     659000970                    7   \n",
       "\n",
       "  Neighborhood  YearBuilt  NumberofBuildings  ...  \\\n",
       "0     DOWNTOWN       1927                  1  ...   \n",
       "1     DOWNTOWN       1996                  1  ...   \n",
       "2     DOWNTOWN       1969                  1  ...   \n",
       "3     DOWNTOWN       1926                  1  ...   \n",
       "4     DOWNTOWN       1980                  1  ...   \n",
       "\n",
       "   Seattle Police Department Micro Community Policing Plan Areas  \\\n",
       "0                                               14.0               \n",
       "1                                               14.0               \n",
       "2                                               56.0               \n",
       "3                                               56.0               \n",
       "4                                               56.0               \n",
       "\n",
       "   City Council Districts  SPD Beats  Zip Codes     latitude      longitude  \\\n",
       "0                     NaN       31.0      18081  47.61219025  -122.33799744   \n",
       "1                     NaN       31.0      18081  47.61310583  -122.33335756   \n",
       "2                     NaN       31.0      18081  47.61334897  -122.33769944   \n",
       "3                     NaN       31.0      18081  47.61421585  -122.33660889   \n",
       "4                     NaN       31.0      19576   47.6137544   -122.3409238   \n",
       "\n",
       "          address     city  state    zip  \n",
       "0   405 OLIVE WAY  SEATTLE     WA  98101  \n",
       "1     724 PINE ST  SEATTLE     WA  98101  \n",
       "2    1900 5TH AVE  SEATTLE     WA  98101  \n",
       "3  620 STEWART ST  SEATTLE     WA  98101  \n",
       "4   401 LENORA ST  SEATTLE     WA  98121  \n",
       "\n",
       "[5 rows x 52 columns]"
      ]
     },
     "execution_count": 7,
     "metadata": {},
     "output_type": "execute_result"
    }
   ],
   "source": [
    "df2015['Location'] = [ast.literal_eval(str(item)) for index, item in df2015.Location.iteritems()]\n",
    "df2015 = pd.concat([df2015.drop(['Location'], axis=1), df2015['Location'].apply(pd.Series)], axis=1)\n",
    "\n",
    "df2015['human_address'] = [ast.literal_eval(str(item)) for index, item in df2015.human_address.iteritems()]\n",
    "df2015 = pd.concat([df2015.drop(['human_address'], axis=1), df2015['human_address'].apply(pd.Series)], axis=1)\n",
    "df2015.head()"
   ]
  },
  {
   "cell_type": "markdown",
   "metadata": {},
   "source": [
    "#### We rename here the features that are obviously the same but with different names"
   ]
  },
  {
   "cell_type": "code",
   "execution_count": 8,
   "metadata": {},
   "outputs": [],
   "source": [
    "df2015 = df2015.rename(columns={\"latitude\":\"Latitude\", \n",
    "                                  \"longitude\":\"Longitude\",\n",
    "                                  \"address\":\"Address\", \n",
    "                                  \"city\":\"City\", \n",
    "                                  \"state\":\"State\", \n",
    "                                  \"zip\":\"ZipCode\",\n",
    "                                  \"GHGEmissions(MetricTonsCO2e)\":\"TotalGHGEmissions\",\n",
    "                                  \"GHGEmissionsIntensity(kgCO2e/ft2)\":\"GHGEmissionsIntensity\",\n",
    "                                  \"Comment\":\"Comments\"})"
   ]
  },
  {
   "cell_type": "code",
   "execution_count": 9,
   "metadata": {},
   "outputs": [
    {
     "name": "stdout",
     "output_type": "stream",
     "text": [
      "Variables in 2015 but not in 2016 :\n"
     ]
    },
    {
     "data": {
      "text/plain": [
       "['SPD Beats',\n",
       " '2010 Census Tracts',\n",
       " 'Seattle Police Department Micro Community Policing Plan Areas',\n",
       " 'City Council Districts',\n",
       " 'OtherFuelUse(kBtu)',\n",
       " 'Zip Codes']"
      ]
     },
     "execution_count": 9,
     "metadata": {},
     "output_type": "execute_result"
    }
   ],
   "source": [
    "print(\"Variables in 2015 but not in 2016 :\")\n",
    "utils.diff_lists(df2015.columns.tolist(), df2016.columns.tolist())[0]"
   ]
  },
  {
   "cell_type": "markdown",
   "metadata": {},
   "source": [
    "#### The other features in the 2015 df but not in 2016 are irrelevant in our study -> remove the columns"
   ]
  },
  {
   "cell_type": "code",
   "execution_count": 10,
   "metadata": {},
   "outputs": [],
   "source": [
    "df2015.drop(utils.diff_lists(df2015.columns.tolist(), df2016.columns.tolist())[0], axis = 1, inplace = True)"
   ]
  },
  {
   "cell_type": "code",
   "execution_count": 11,
   "metadata": {},
   "outputs": [
    {
     "name": "stdout",
     "output_type": "stream",
     "text": [
      "Variables in 2015 but not in 2016 :\n"
     ]
    },
    {
     "data": {
      "text/plain": [
       "[]"
      ]
     },
     "execution_count": 11,
     "metadata": {},
     "output_type": "execute_result"
    }
   ],
   "source": [
    "print(\"Variables in 2015 but not in 2016 :\")\n",
    "utils.diff_lists(df2015.columns.tolist(), df2016.columns.tolist())[0]"
   ]
  },
  {
   "cell_type": "markdown",
   "metadata": {},
   "source": [
    "#### Convert values to float type"
   ]
  },
  {
   "cell_type": "code",
   "execution_count": 12,
   "metadata": {},
   "outputs": [],
   "source": [
    "df2015[['Latitude','Longitude', 'ZipCode']] = df2015[['Latitude','Longitude', 'ZipCode']].astype('float64')"
   ]
  },
  {
   "cell_type": "markdown",
   "metadata": {},
   "source": [
    "#### Concatenate dataframes"
   ]
  },
  {
   "cell_type": "code",
   "execution_count": 13,
   "metadata": {},
   "outputs": [],
   "source": [
    "df = pd.concat([df2015, df2016], axis=0).sort_values('DataYear')"
   ]
  },
  {
   "cell_type": "code",
   "execution_count": 14,
   "metadata": {},
   "outputs": [
    {
     "data": {
      "text/plain": [
       "(6716, 46)"
      ]
     },
     "execution_count": 14,
     "metadata": {},
     "output_type": "execute_result"
    }
   ],
   "source": [
    "df.shape"
   ]
  },
  {
   "cell_type": "code",
   "execution_count": 15,
   "metadata": {},
   "outputs": [
    {
     "data": {
      "text/plain": [
       "OSEBuildingID                         0\n",
       "DataYear                              0\n",
       "BuildingType                          0\n",
       "PrimaryPropertyType                   0\n",
       "PropertyName                          0\n",
       "TaxParcelIdentificationNumber         2\n",
       "CouncilDistrictCode                   0\n",
       "Neighborhood                          0\n",
       "YearBuilt                             0\n",
       "NumberofBuildings                     8\n",
       "NumberofFloors                        8\n",
       "PropertyGFATotal                      0\n",
       "PropertyGFAParking                    0\n",
       "PropertyGFABuilding(s)                0\n",
       "ListOfAllPropertyUseTypes           136\n",
       "LargestPropertyUseType              156\n",
       "LargestPropertyUseTypeGFA           156\n",
       "SecondLargestPropertyUseType       3478\n",
       "SecondLargestPropertyUseTypeGFA    3478\n",
       "ThirdLargestPropertyUseType        5560\n",
       "ThirdLargestPropertyUseTypeGFA     5560\n",
       "YearsENERGYSTARCertified           6487\n",
       "ENERGYSTARScore                    1623\n",
       "SiteEUI(kBtu/sf)                     17\n",
       "SiteEUIWN(kBtu/sf)                   16\n",
       "SourceEUI(kBtu/sf)                   19\n",
       "SourceEUIWN(kBtu/sf)                 19\n",
       "SiteEnergyUse(kBtu)                  15\n",
       "SiteEnergyUseWN(kBtu)                16\n",
       "SteamUse(kBtu)                       19\n",
       "Electricity(kWh)                     19\n",
       "Electricity(kBtu)                    19\n",
       "NaturalGas(therms)                   19\n",
       "NaturalGas(kBtu)                     19\n",
       "TotalGHGEmissions                    19\n",
       "GHGEmissionsIntensity                19\n",
       "DefaultData                           1\n",
       "Comments                           6703\n",
       "ComplianceStatus                      0\n",
       "Outlier                            6600\n",
       "Latitude                              0\n",
       "Longitude                             0\n",
       "Address                               0\n",
       "City                                  0\n",
       "State                                 0\n",
       "ZipCode                              16\n",
       "dtype: int64"
      ]
     },
     "execution_count": 15,
     "metadata": {},
     "output_type": "execute_result"
    }
   ],
   "source": [
    "df.isnull().sum()"
   ]
  },
  {
   "cell_type": "code",
   "execution_count": 16,
   "metadata": {},
   "outputs": [],
   "source": [
    "df.to_csv(r'E:/OpenClassrooms/Projet4/building_energy_benchmark_2015-2016.csv', index = False)"
   ]
  },
  {
   "cell_type": "markdown",
   "metadata": {},
   "source": [
    "# Cleaning"
   ]
  },
  {
   "cell_type": "code",
   "execution_count": 17,
   "metadata": {},
   "outputs": [],
   "source": [
    "df = pd.read_csv(os.path.join(\"E:/OpenClassrooms/Projet4\", \"building_energy_benchmark_2015-2016.csv\"), low_memory = False)"
   ]
  },
  {
   "cell_type": "code",
   "execution_count": 18,
   "metadata": {},
   "outputs": [
    {
     "data": {
      "text/plain": [
       "['OSEBuildingID',\n",
       " 'DataYear',\n",
       " 'BuildingType',\n",
       " 'PrimaryPropertyType',\n",
       " 'PropertyName',\n",
       " 'TaxParcelIdentificationNumber',\n",
       " 'CouncilDistrictCode',\n",
       " 'Neighborhood',\n",
       " 'YearBuilt',\n",
       " 'NumberofBuildings',\n",
       " 'NumberofFloors',\n",
       " 'PropertyGFATotal',\n",
       " 'PropertyGFAParking',\n",
       " 'PropertyGFABuilding(s)',\n",
       " 'ListOfAllPropertyUseTypes',\n",
       " 'LargestPropertyUseType',\n",
       " 'LargestPropertyUseTypeGFA',\n",
       " 'SecondLargestPropertyUseType',\n",
       " 'SecondLargestPropertyUseTypeGFA',\n",
       " 'ThirdLargestPropertyUseType',\n",
       " 'ThirdLargestPropertyUseTypeGFA',\n",
       " 'YearsENERGYSTARCertified',\n",
       " 'ENERGYSTARScore',\n",
       " 'SiteEUI(kBtu/sf)',\n",
       " 'SiteEUIWN(kBtu/sf)',\n",
       " 'SourceEUI(kBtu/sf)',\n",
       " 'SourceEUIWN(kBtu/sf)',\n",
       " 'SiteEnergyUse(kBtu)',\n",
       " 'SiteEnergyUseWN(kBtu)',\n",
       " 'SteamUse(kBtu)',\n",
       " 'Electricity(kWh)',\n",
       " 'Electricity(kBtu)',\n",
       " 'NaturalGas(therms)',\n",
       " 'NaturalGas(kBtu)',\n",
       " 'TotalGHGEmissions',\n",
       " 'GHGEmissionsIntensity',\n",
       " 'DefaultData',\n",
       " 'Comments',\n",
       " 'ComplianceStatus',\n",
       " 'Outlier',\n",
       " 'Latitude',\n",
       " 'Longitude',\n",
       " 'Address',\n",
       " 'City',\n",
       " 'State',\n",
       " 'ZipCode']"
      ]
     },
     "execution_count": 18,
     "metadata": {},
     "output_type": "execute_result"
    }
   ],
   "source": [
    "df.columns.tolist()"
   ]
  },
  {
   "cell_type": "markdown",
   "metadata": {},
   "source": [
    "#### Delete irrelevant and redundant variables"
   ]
  },
  {
   "cell_type": "code",
   "execution_count": 19,
   "metadata": {},
   "outputs": [],
   "source": [
    "df.drop(['State', 'ZipCode', 'Comments', 'City'], axis = 1, inplace = True)  #irrelevant variables"
   ]
  },
  {
   "cell_type": "code",
   "execution_count": 20,
   "metadata": {},
   "outputs": [],
   "source": [
    "df.drop(['Electricity(kBtu)', 'NaturalGas(therms)'], axis = 1, inplace = True)  #redundant variables\n",
    "df.drop(['Neighborhood'], axis = 1, inplace = True)\n",
    "df.drop(['Outlier', 'ComplianceStatus', 'DefaultData'], axis = 1, inplace = True)   #Too much missing data + not really useful"
   ]
  },
  {
   "cell_type": "code",
   "execution_count": 21,
   "metadata": {},
   "outputs": [],
   "source": [
    "list_WN = [i for i in df.columns if 'WN' in i]  # delete weather normalized variables\n",
    "df.drop(list_WN, axis = 1, inplace = True)"
   ]
  },
  {
   "cell_type": "markdown",
   "metadata": {},
   "source": [
    "#### Delete residential buildings"
   ]
  },
  {
   "cell_type": "code",
   "execution_count": 22,
   "metadata": {},
   "outputs": [
    {
     "data": {
      "text/plain": [
       "array(['NonResidential', 'Multifamily LR (1-4)', 'Multifamily MR (5-9)',\n",
       "       'Multifamily HR (10+)', 'SPS-District K-12', 'Nonresidential COS',\n",
       "       'Campus', 'Nonresidential WA'], dtype=object)"
      ]
     },
     "execution_count": 22,
     "metadata": {},
     "output_type": "execute_result"
    }
   ],
   "source": [
    "df['BuildingType'].unique()"
   ]
  },
  {
   "cell_type": "code",
   "execution_count": 23,
   "metadata": {},
   "outputs": [
    {
     "name": "stdout",
     "output_type": "stream",
     "text": [
      "['Multifamily LR (1-4)', 'Multifamily MR (5-9)', 'Multifamily HR (10+)']\n"
     ]
    }
   ],
   "source": [
    "list_residential = [i for i in df['BuildingType'].unique().tolist() if 'Multifamily' in i]\n",
    "print(list_residential)\n",
    "#print(df.loc[df['BuildingType']=='Multifamily HR (10+)'])"
   ]
  },
  {
   "cell_type": "code",
   "execution_count": 24,
   "metadata": {},
   "outputs": [],
   "source": [
    "df = df.loc[~df['BuildingType'].isin(list_residential)]"
   ]
  },
  {
   "cell_type": "code",
   "execution_count": 25,
   "metadata": {},
   "outputs": [
    {
     "data": {
      "text/plain": [
       "(3318, 33)"
      ]
     },
     "execution_count": 25,
     "metadata": {},
     "output_type": "execute_result"
    }
   ],
   "source": [
    "df.shape"
   ]
  },
  {
   "cell_type": "code",
   "execution_count": 26,
   "metadata": {},
   "outputs": [
    {
     "data": {
      "text/plain": [
       "array(['NonResidential', 'SPS-District K-12', 'Nonresidential COS',\n",
       "       'Campus', 'Nonresidential WA'], dtype=object)"
      ]
     },
     "execution_count": 26,
     "metadata": {},
     "output_type": "execute_result"
    }
   ],
   "source": [
    "df['BuildingType'].unique()"
   ]
  },
  {
   "cell_type": "code",
   "execution_count": 27,
   "metadata": {},
   "outputs": [
    {
     "name": "stdout",
     "output_type": "stream",
     "text": [
      "<class 'pandas.core.frame.DataFrame'>\n",
      "Int64Index: 3318 entries, 0 to 6715\n",
      "Data columns (total 33 columns):\n",
      " #   Column                           Non-Null Count  Dtype  \n",
      "---  ------                           --------------  -----  \n",
      " 0   OSEBuildingID                    3318 non-null   int64  \n",
      " 1   DataYear                         3318 non-null   int64  \n",
      " 2   BuildingType                     3318 non-null   object \n",
      " 3   PrimaryPropertyType              3318 non-null   object \n",
      " 4   PropertyName                     3318 non-null   object \n",
      " 5   TaxParcelIdentificationNumber    3317 non-null   object \n",
      " 6   CouncilDistrictCode              3318 non-null   int64  \n",
      " 7   YearBuilt                        3318 non-null   int64  \n",
      " 8   NumberofBuildings                3316 non-null   float64\n",
      " 9   NumberofFloors                   3310 non-null   float64\n",
      " 10  PropertyGFATotal                 3318 non-null   int64  \n",
      " 11  PropertyGFAParking               3318 non-null   int64  \n",
      " 12  PropertyGFABuilding(s)           3318 non-null   int64  \n",
      " 13  ListOfAllPropertyUseTypes        3255 non-null   object \n",
      " 14  LargestPropertyUseType           3247 non-null   object \n",
      " 15  LargestPropertyUseTypeGFA        3247 non-null   float64\n",
      " 16  SecondLargestPropertyUseType     1667 non-null   object \n",
      " 17  SecondLargestPropertyUseTypeGFA  1667 non-null   float64\n",
      " 18  ThirdLargestPropertyUseType      684 non-null    object \n",
      " 19  ThirdLargestPropertyUseTypeGFA   684 non-null    float64\n",
      " 20  YearsENERGYSTARCertified         188 non-null    object \n",
      " 21  ENERGYSTARScore                  2211 non-null   float64\n",
      " 22  SiteEUI(kBtu/sf)                 3308 non-null   float64\n",
      " 23  SourceEUI(kBtu/sf)               3309 non-null   float64\n",
      " 24  SiteEnergyUse(kBtu)              3309 non-null   float64\n",
      " 25  SteamUse(kBtu)                   3309 non-null   float64\n",
      " 26  Electricity(kWh)                 3309 non-null   float64\n",
      " 27  NaturalGas(kBtu)                 3309 non-null   float64\n",
      " 28  TotalGHGEmissions                3309 non-null   float64\n",
      " 29  GHGEmissionsIntensity            3309 non-null   float64\n",
      " 30  Latitude                         3318 non-null   float64\n",
      " 31  Longitude                        3318 non-null   float64\n",
      " 32  Address                          3318 non-null   object \n",
      "dtypes: float64(16), int64(7), object(10)\n",
      "memory usage: 881.3+ KB\n"
     ]
    }
   ],
   "source": [
    "df.info()"
   ]
  },
  {
   "cell_type": "markdown",
   "metadata": {},
   "source": [
    "#### Fill missing data (number of floors and buildings). If missing, we assume there is only 1 floor/building"
   ]
  },
  {
   "cell_type": "code",
   "execution_count": 28,
   "metadata": {},
   "outputs": [
    {
     "name": "stdout",
     "output_type": "stream",
     "text": [
      "8\n"
     ]
    }
   ],
   "source": [
    "print(df['NumberofFloors'].isnull().sum())"
   ]
  },
  {
   "cell_type": "code",
   "execution_count": 29,
   "metadata": {},
   "outputs": [],
   "source": [
    "df.loc[df['NumberofFloors'].isnull(),'NumberofFloors'] = 1\n",
    "df.loc[df['NumberofBuildings'].isnull(),'NumberofBuildings'] = 1"
   ]
  },
  {
   "cell_type": "code",
   "execution_count": 30,
   "metadata": {},
   "outputs": [
    {
     "name": "stdout",
     "output_type": "stream",
     "text": [
      "<class 'pandas.core.frame.DataFrame'>\n",
      "Int64Index: 3318 entries, 0 to 6715\n",
      "Data columns (total 33 columns):\n",
      " #   Column                           Non-Null Count  Dtype  \n",
      "---  ------                           --------------  -----  \n",
      " 0   OSEBuildingID                    3318 non-null   int64  \n",
      " 1   DataYear                         3318 non-null   int64  \n",
      " 2   BuildingType                     3318 non-null   object \n",
      " 3   PrimaryPropertyType              3318 non-null   object \n",
      " 4   PropertyName                     3318 non-null   object \n",
      " 5   TaxParcelIdentificationNumber    3317 non-null   object \n",
      " 6   CouncilDistrictCode              3318 non-null   int64  \n",
      " 7   YearBuilt                        3318 non-null   int64  \n",
      " 8   NumberofBuildings                3318 non-null   float64\n",
      " 9   NumberofFloors                   3318 non-null   float64\n",
      " 10  PropertyGFATotal                 3318 non-null   int64  \n",
      " 11  PropertyGFAParking               3318 non-null   int64  \n",
      " 12  PropertyGFABuilding(s)           3318 non-null   int64  \n",
      " 13  ListOfAllPropertyUseTypes        3255 non-null   object \n",
      " 14  LargestPropertyUseType           3247 non-null   object \n",
      " 15  LargestPropertyUseTypeGFA        3247 non-null   float64\n",
      " 16  SecondLargestPropertyUseType     1667 non-null   object \n",
      " 17  SecondLargestPropertyUseTypeGFA  1667 non-null   float64\n",
      " 18  ThirdLargestPropertyUseType      684 non-null    object \n",
      " 19  ThirdLargestPropertyUseTypeGFA   684 non-null    float64\n",
      " 20  YearsENERGYSTARCertified         188 non-null    object \n",
      " 21  ENERGYSTARScore                  2211 non-null   float64\n",
      " 22  SiteEUI(kBtu/sf)                 3308 non-null   float64\n",
      " 23  SourceEUI(kBtu/sf)               3309 non-null   float64\n",
      " 24  SiteEnergyUse(kBtu)              3309 non-null   float64\n",
      " 25  SteamUse(kBtu)                   3309 non-null   float64\n",
      " 26  Electricity(kWh)                 3309 non-null   float64\n",
      " 27  NaturalGas(kBtu)                 3309 non-null   float64\n",
      " 28  TotalGHGEmissions                3309 non-null   float64\n",
      " 29  GHGEmissionsIntensity            3309 non-null   float64\n",
      " 30  Latitude                         3318 non-null   float64\n",
      " 31  Longitude                        3318 non-null   float64\n",
      " 32  Address                          3318 non-null   object \n",
      "dtypes: float64(16), int64(7), object(10)\n",
      "memory usage: 881.3+ KB\n"
     ]
    }
   ],
   "source": [
    "df.info()"
   ]
  },
  {
   "cell_type": "markdown",
   "metadata": {},
   "source": [
    "### Outliers"
   ]
  },
  {
   "cell_type": "markdown",
   "metadata": {},
   "source": [
    "#### Electricity Use\n",
    "#### 1 building with <0 energy use, corresponding to a self sustainable building and producing electricity, not representative of our study -> delete row"
   ]
  },
  {
   "cell_type": "code",
   "execution_count": 31,
   "metadata": {},
   "outputs": [
    {
     "data": {
      "text/plain": [
       "count    3.309000e+03\n",
       "mean     1.651947e+06\n",
       "std      5.102228e+06\n",
       "min     -3.382680e+04\n",
       "25%      2.120948e+05\n",
       "50%      4.758666e+05\n",
       "75%      1.429920e+06\n",
       "max      1.925775e+08\n",
       "Name: Electricity(kWh), dtype: float64"
      ]
     },
     "execution_count": 31,
     "metadata": {},
     "output_type": "execute_result"
    }
   ],
   "source": [
    "df['Electricity(kWh)'].describe()"
   ]
  },
  {
   "cell_type": "code",
   "execution_count": 32,
   "metadata": {},
   "outputs": [
    {
     "data": {
      "text/html": [
       "<div>\n",
       "<style scoped>\n",
       "    .dataframe tbody tr th:only-of-type {\n",
       "        vertical-align: middle;\n",
       "    }\n",
       "\n",
       "    .dataframe tbody tr th {\n",
       "        vertical-align: top;\n",
       "    }\n",
       "\n",
       "    .dataframe thead th {\n",
       "        text-align: right;\n",
       "    }\n",
       "</style>\n",
       "<table border=\"1\" class=\"dataframe\">\n",
       "  <thead>\n",
       "    <tr style=\"text-align: right;\">\n",
       "      <th></th>\n",
       "      <th>OSEBuildingID</th>\n",
       "      <th>DataYear</th>\n",
       "      <th>BuildingType</th>\n",
       "      <th>PrimaryPropertyType</th>\n",
       "      <th>PropertyName</th>\n",
       "      <th>TaxParcelIdentificationNumber</th>\n",
       "      <th>CouncilDistrictCode</th>\n",
       "      <th>YearBuilt</th>\n",
       "      <th>NumberofBuildings</th>\n",
       "      <th>NumberofFloors</th>\n",
       "      <th>...</th>\n",
       "      <th>SourceEUI(kBtu/sf)</th>\n",
       "      <th>SiteEnergyUse(kBtu)</th>\n",
       "      <th>SteamUse(kBtu)</th>\n",
       "      <th>Electricity(kWh)</th>\n",
       "      <th>NaturalGas(kBtu)</th>\n",
       "      <th>TotalGHGEmissions</th>\n",
       "      <th>GHGEmissionsIntensity</th>\n",
       "      <th>Latitude</th>\n",
       "      <th>Longitude</th>\n",
       "      <th>Address</th>\n",
       "    </tr>\n",
       "  </thead>\n",
       "  <tbody>\n",
       "    <tr>\n",
       "      <th>4512</th>\n",
       "      <td>49784</td>\n",
       "      <td>2016</td>\n",
       "      <td>NonResidential</td>\n",
       "      <td>Small- and Mid-Sized Office</td>\n",
       "      <td>Bullitt Center</td>\n",
       "      <td>7234600195</td>\n",
       "      <td>3</td>\n",
       "      <td>2013</td>\n",
       "      <td>1.0</td>\n",
       "      <td>6.0</td>\n",
       "      <td>...</td>\n",
       "      <td>2.0</td>\n",
       "      <td>342726.0938</td>\n",
       "      <td>0.0</td>\n",
       "      <td>-33826.80078</td>\n",
       "      <td>0.0</td>\n",
       "      <td>-0.8</td>\n",
       "      <td>-0.02</td>\n",
       "      <td>47.61432</td>\n",
       "      <td>-122.31257</td>\n",
       "      <td>1501 E. Madison St.</td>\n",
       "    </tr>\n",
       "  </tbody>\n",
       "</table>\n",
       "<p>1 rows × 33 columns</p>\n",
       "</div>"
      ],
      "text/plain": [
       "      OSEBuildingID  DataYear    BuildingType          PrimaryPropertyType  \\\n",
       "4512          49784      2016  NonResidential  Small- and Mid-Sized Office   \n",
       "\n",
       "        PropertyName TaxParcelIdentificationNumber  CouncilDistrictCode  \\\n",
       "4512  Bullitt Center                    7234600195                    3   \n",
       "\n",
       "      YearBuilt  NumberofBuildings  NumberofFloors  ...  SourceEUI(kBtu/sf)  \\\n",
       "4512       2013                1.0             6.0  ...                 2.0   \n",
       "\n",
       "      SiteEnergyUse(kBtu)  SteamUse(kBtu) Electricity(kWh) NaturalGas(kBtu)  \\\n",
       "4512          342726.0938             0.0     -33826.80078              0.0   \n",
       "\n",
       "      TotalGHGEmissions GHGEmissionsIntensity  Latitude  Longitude  \\\n",
       "4512               -0.8                 -0.02  47.61432 -122.31257   \n",
       "\n",
       "                  Address  \n",
       "4512  1501 E. Madison St.  \n",
       "\n",
       "[1 rows x 33 columns]"
      ]
     },
     "execution_count": 32,
     "metadata": {},
     "output_type": "execute_result"
    }
   ],
   "source": [
    "df.loc[df['Electricity(kWh)']<0, :]"
   ]
  },
  {
   "cell_type": "code",
   "execution_count": 33,
   "metadata": {},
   "outputs": [],
   "source": [
    "ind=df.loc[df['Electricity(kWh)']<0, :].index[0]\n",
    "#print(ind)\n",
    "df.drop(ind, axis=0, inplace=True)"
   ]
  },
  {
   "cell_type": "code",
   "execution_count": 34,
   "metadata": {},
   "outputs": [
    {
     "data": {
      "text/html": [
       "<div>\n",
       "<style scoped>\n",
       "    .dataframe tbody tr th:only-of-type {\n",
       "        vertical-align: middle;\n",
       "    }\n",
       "\n",
       "    .dataframe tbody tr th {\n",
       "        vertical-align: top;\n",
       "    }\n",
       "\n",
       "    .dataframe thead th {\n",
       "        text-align: right;\n",
       "    }\n",
       "</style>\n",
       "<table border=\"1\" class=\"dataframe\">\n",
       "  <thead>\n",
       "    <tr style=\"text-align: right;\">\n",
       "      <th></th>\n",
       "      <th>OSEBuildingID</th>\n",
       "      <th>DataYear</th>\n",
       "      <th>BuildingType</th>\n",
       "      <th>PrimaryPropertyType</th>\n",
       "      <th>PropertyName</th>\n",
       "      <th>TaxParcelIdentificationNumber</th>\n",
       "      <th>CouncilDistrictCode</th>\n",
       "      <th>YearBuilt</th>\n",
       "      <th>NumberofBuildings</th>\n",
       "      <th>NumberofFloors</th>\n",
       "      <th>...</th>\n",
       "      <th>SourceEUI(kBtu/sf)</th>\n",
       "      <th>SiteEnergyUse(kBtu)</th>\n",
       "      <th>SteamUse(kBtu)</th>\n",
       "      <th>Electricity(kWh)</th>\n",
       "      <th>NaturalGas(kBtu)</th>\n",
       "      <th>TotalGHGEmissions</th>\n",
       "      <th>GHGEmissionsIntensity</th>\n",
       "      <th>Latitude</th>\n",
       "      <th>Longitude</th>\n",
       "      <th>Address</th>\n",
       "    </tr>\n",
       "  </thead>\n",
       "  <tbody>\n",
       "  </tbody>\n",
       "</table>\n",
       "<p>0 rows × 33 columns</p>\n",
       "</div>"
      ],
      "text/plain": [
       "Empty DataFrame\n",
       "Columns: [OSEBuildingID, DataYear, BuildingType, PrimaryPropertyType, PropertyName, TaxParcelIdentificationNumber, CouncilDistrictCode, YearBuilt, NumberofBuildings, NumberofFloors, PropertyGFATotal, PropertyGFAParking, PropertyGFABuilding(s), ListOfAllPropertyUseTypes, LargestPropertyUseType, LargestPropertyUseTypeGFA, SecondLargestPropertyUseType, SecondLargestPropertyUseTypeGFA, ThirdLargestPropertyUseType, ThirdLargestPropertyUseTypeGFA, YearsENERGYSTARCertified, ENERGYSTARScore, SiteEUI(kBtu/sf), SourceEUI(kBtu/sf), SiteEnergyUse(kBtu), SteamUse(kBtu), Electricity(kWh), NaturalGas(kBtu), TotalGHGEmissions, GHGEmissionsIntensity, Latitude, Longitude, Address]\n",
       "Index: []\n",
       "\n",
       "[0 rows x 33 columns]"
      ]
     },
     "execution_count": 34,
     "metadata": {},
     "output_type": "execute_result"
    }
   ],
   "source": [
    "df.loc[df['Electricity(kWh)']<0, :]"
   ]
  },
  {
   "cell_type": "markdown",
   "metadata": {},
   "source": [
    "#### 1 building with extremely high energy use -> university of Washington, 111 buildings, not representative of our study -> delete row"
   ]
  },
  {
   "cell_type": "code",
   "execution_count": 35,
   "metadata": {},
   "outputs": [
    {
     "data": {
      "text/html": [
       "<div>\n",
       "<style scoped>\n",
       "    .dataframe tbody tr th:only-of-type {\n",
       "        vertical-align: middle;\n",
       "    }\n",
       "\n",
       "    .dataframe tbody tr th {\n",
       "        vertical-align: top;\n",
       "    }\n",
       "\n",
       "    .dataframe thead th {\n",
       "        text-align: right;\n",
       "    }\n",
       "</style>\n",
       "<table border=\"1\" class=\"dataframe\">\n",
       "  <thead>\n",
       "    <tr style=\"text-align: right;\">\n",
       "      <th></th>\n",
       "      <th>OSEBuildingID</th>\n",
       "      <th>DataYear</th>\n",
       "      <th>BuildingType</th>\n",
       "      <th>PrimaryPropertyType</th>\n",
       "      <th>PropertyName</th>\n",
       "      <th>TaxParcelIdentificationNumber</th>\n",
       "      <th>CouncilDistrictCode</th>\n",
       "      <th>YearBuilt</th>\n",
       "      <th>NumberofBuildings</th>\n",
       "      <th>NumberofFloors</th>\n",
       "      <th>...</th>\n",
       "      <th>SourceEUI(kBtu/sf)</th>\n",
       "      <th>SiteEnergyUse(kBtu)</th>\n",
       "      <th>SteamUse(kBtu)</th>\n",
       "      <th>Electricity(kWh)</th>\n",
       "      <th>NaturalGas(kBtu)</th>\n",
       "      <th>TotalGHGEmissions</th>\n",
       "      <th>GHGEmissionsIntensity</th>\n",
       "      <th>Latitude</th>\n",
       "      <th>Longitude</th>\n",
       "      <th>Address</th>\n",
       "    </tr>\n",
       "  </thead>\n",
       "  <tbody>\n",
       "    <tr>\n",
       "      <th>4422</th>\n",
       "      <td>49967</td>\n",
       "      <td>2016</td>\n",
       "      <td>Campus</td>\n",
       "      <td>University</td>\n",
       "      <td>University of Washington - Seattle Campus</td>\n",
       "      <td>1625049001</td>\n",
       "      <td>4</td>\n",
       "      <td>1900</td>\n",
       "      <td>111.0</td>\n",
       "      <td>0.0</td>\n",
       "      <td>...</td>\n",
       "      <td>246.600006</td>\n",
       "      <td>873923712.0</td>\n",
       "      <td>84985240.0</td>\n",
       "      <td>192577488.0</td>\n",
       "      <td>0.0</td>\n",
       "      <td>11140.56</td>\n",
       "      <td>1.2</td>\n",
       "      <td>47.65644</td>\n",
       "      <td>-122.31041</td>\n",
       "      <td>NE 45th St &amp; Brooklyn Ave</td>\n",
       "    </tr>\n",
       "  </tbody>\n",
       "</table>\n",
       "<p>1 rows × 33 columns</p>\n",
       "</div>"
      ],
      "text/plain": [
       "      OSEBuildingID  DataYear BuildingType PrimaryPropertyType  \\\n",
       "4422          49967      2016       Campus          University   \n",
       "\n",
       "                                   PropertyName TaxParcelIdentificationNumber  \\\n",
       "4422  University of Washington - Seattle Campus                    1625049001   \n",
       "\n",
       "      CouncilDistrictCode  YearBuilt  NumberofBuildings  NumberofFloors  ...  \\\n",
       "4422                    4       1900              111.0             0.0  ...   \n",
       "\n",
       "      SourceEUI(kBtu/sf)  SiteEnergyUse(kBtu)  SteamUse(kBtu)  \\\n",
       "4422          246.600006          873923712.0      84985240.0   \n",
       "\n",
       "     Electricity(kWh) NaturalGas(kBtu)  TotalGHGEmissions  \\\n",
       "4422      192577488.0              0.0           11140.56   \n",
       "\n",
       "     GHGEmissionsIntensity  Latitude  Longitude                    Address  \n",
       "4422                   1.2  47.65644 -122.31041  NE 45th St & Brooklyn Ave  \n",
       "\n",
       "[1 rows x 33 columns]"
      ]
     },
     "execution_count": 35,
     "metadata": {},
     "output_type": "execute_result"
    }
   ],
   "source": [
    "df.loc[df['Electricity(kWh)'] == max(df['Electricity(kWh)']), :]"
   ]
  },
  {
   "cell_type": "code",
   "execution_count": 36,
   "metadata": {},
   "outputs": [
    {
     "name": "stdout",
     "output_type": "stream",
     "text": [
      "4422\n"
     ]
    }
   ],
   "source": [
    "ind = df.loc[df['Electricity(kWh)'] == max(df['Electricity(kWh)']), :].index[0]\n",
    "print(ind)\n",
    "df.drop(ind, axis=0, inplace=True)"
   ]
  },
  {
   "cell_type": "code",
   "execution_count": 37,
   "metadata": {},
   "outputs": [
    {
     "data": {
      "text/html": [
       "<div>\n",
       "<style scoped>\n",
       "    .dataframe tbody tr th:only-of-type {\n",
       "        vertical-align: middle;\n",
       "    }\n",
       "\n",
       "    .dataframe tbody tr th {\n",
       "        vertical-align: top;\n",
       "    }\n",
       "\n",
       "    .dataframe thead th {\n",
       "        text-align: right;\n",
       "    }\n",
       "</style>\n",
       "<table border=\"1\" class=\"dataframe\">\n",
       "  <thead>\n",
       "    <tr style=\"text-align: right;\">\n",
       "      <th></th>\n",
       "      <th>OSEBuildingID</th>\n",
       "      <th>DataYear</th>\n",
       "      <th>BuildingType</th>\n",
       "      <th>PrimaryPropertyType</th>\n",
       "      <th>PropertyName</th>\n",
       "      <th>TaxParcelIdentificationNumber</th>\n",
       "      <th>CouncilDistrictCode</th>\n",
       "      <th>YearBuilt</th>\n",
       "      <th>NumberofBuildings</th>\n",
       "      <th>NumberofFloors</th>\n",
       "      <th>...</th>\n",
       "      <th>SourceEUI(kBtu/sf)</th>\n",
       "      <th>SiteEnergyUse(kBtu)</th>\n",
       "      <th>SteamUse(kBtu)</th>\n",
       "      <th>Electricity(kWh)</th>\n",
       "      <th>NaturalGas(kBtu)</th>\n",
       "      <th>TotalGHGEmissions</th>\n",
       "      <th>GHGEmissionsIntensity</th>\n",
       "      <th>Latitude</th>\n",
       "      <th>Longitude</th>\n",
       "      <th>Address</th>\n",
       "    </tr>\n",
       "  </thead>\n",
       "  <tbody>\n",
       "    <tr>\n",
       "      <th>1694</th>\n",
       "      <td>753</td>\n",
       "      <td>2015</td>\n",
       "      <td>NonResidential</td>\n",
       "      <td>Other</td>\n",
       "      <td>THE WESTIN BUILDING</td>\n",
       "      <td>659000950</td>\n",
       "      <td>7</td>\n",
       "      <td>1981</td>\n",
       "      <td>1.0</td>\n",
       "      <td>33.0</td>\n",
       "      <td>...</td>\n",
       "      <td>2082.3</td>\n",
       "      <td>284867168.0</td>\n",
       "      <td>0.0</td>\n",
       "      <td>83445048.0</td>\n",
       "      <td>152639.0</td>\n",
       "      <td>1992.96</td>\n",
       "      <td>1.79</td>\n",
       "      <td>47.614353</td>\n",
       "      <td>-122.33886</td>\n",
       "      <td>2001 6TH AVE</td>\n",
       "    </tr>\n",
       "  </tbody>\n",
       "</table>\n",
       "<p>1 rows × 33 columns</p>\n",
       "</div>"
      ],
      "text/plain": [
       "      OSEBuildingID  DataYear    BuildingType PrimaryPropertyType  \\\n",
       "1694            753      2015  NonResidential               Other   \n",
       "\n",
       "             PropertyName TaxParcelIdentificationNumber  CouncilDistrictCode  \\\n",
       "1694  THE WESTIN BUILDING                     659000950                    7   \n",
       "\n",
       "      YearBuilt  NumberofBuildings  NumberofFloors  ...  SourceEUI(kBtu/sf)  \\\n",
       "1694       1981                1.0            33.0  ...              2082.3   \n",
       "\n",
       "      SiteEnergyUse(kBtu)  SteamUse(kBtu) Electricity(kWh) NaturalGas(kBtu)  \\\n",
       "1694          284867168.0             0.0       83445048.0         152639.0   \n",
       "\n",
       "      TotalGHGEmissions GHGEmissionsIntensity   Latitude  Longitude  \\\n",
       "1694            1992.96                  1.79  47.614353 -122.33886   \n",
       "\n",
       "           Address  \n",
       "1694  2001 6TH AVE  \n",
       "\n",
       "[1 rows x 33 columns]"
      ]
     },
     "execution_count": 37,
     "metadata": {},
     "output_type": "execute_result"
    }
   ],
   "source": [
    "df.loc[df['Electricity(kWh)'] == max(df['Electricity(kWh)']), :]"
   ]
  },
  {
   "cell_type": "markdown",
   "metadata": {},
   "source": [
    "#### Negative GFA -> only 3 buildings -> delete rows (We do not lose too much data, and it is safer than assume or imput values)"
   ]
  },
  {
   "cell_type": "code",
   "execution_count": 38,
   "metadata": {},
   "outputs": [
    {
     "data": {
      "text/html": [
       "<div>\n",
       "<style scoped>\n",
       "    .dataframe tbody tr th:only-of-type {\n",
       "        vertical-align: middle;\n",
       "    }\n",
       "\n",
       "    .dataframe tbody tr th {\n",
       "        vertical-align: top;\n",
       "    }\n",
       "\n",
       "    .dataframe thead th {\n",
       "        text-align: right;\n",
       "    }\n",
       "</style>\n",
       "<table border=\"1\" class=\"dataframe\">\n",
       "  <thead>\n",
       "    <tr style=\"text-align: right;\">\n",
       "      <th></th>\n",
       "      <th>PropertyGFATotal</th>\n",
       "      <th>PropertyGFAParking</th>\n",
       "      <th>PropertyGFABuilding(s)</th>\n",
       "    </tr>\n",
       "  </thead>\n",
       "  <tbody>\n",
       "    <tr>\n",
       "      <th>1101</th>\n",
       "      <td>33648</td>\n",
       "      <td>84198</td>\n",
       "      <td>-50550</td>\n",
       "    </tr>\n",
       "    <tr>\n",
       "      <th>1179</th>\n",
       "      <td>54015</td>\n",
       "      <td>97325</td>\n",
       "      <td>-43310</td>\n",
       "    </tr>\n",
       "  </tbody>\n",
       "</table>\n",
       "</div>"
      ],
      "text/plain": [
       "      PropertyGFATotal  PropertyGFAParking  PropertyGFABuilding(s)\n",
       "1101             33648               84198                  -50550\n",
       "1179             54015               97325                  -43310"
      ]
     },
     "execution_count": 38,
     "metadata": {},
     "output_type": "execute_result"
    }
   ],
   "source": [
    "df.loc[df['PropertyGFABuilding(s)']<=0, ['PropertyGFATotal', 'PropertyGFAParking', 'PropertyGFABuilding(s)']]"
   ]
  },
  {
   "cell_type": "code",
   "execution_count": 39,
   "metadata": {},
   "outputs": [],
   "source": [
    "ind = df.loc[df['PropertyGFABuilding(s)']<=0, ['PropertyGFATotal', 'PropertyGFAParking', 'PropertyGFABuilding(s)']].index\n",
    "#print(df.iloc[df.index[ind]])\n",
    "df.drop(ind, axis=0, inplace = True)"
   ]
  },
  {
   "cell_type": "code",
   "execution_count": 40,
   "metadata": {},
   "outputs": [
    {
     "data": {
      "text/html": [
       "<div>\n",
       "<style scoped>\n",
       "    .dataframe tbody tr th:only-of-type {\n",
       "        vertical-align: middle;\n",
       "    }\n",
       "\n",
       "    .dataframe tbody tr th {\n",
       "        vertical-align: top;\n",
       "    }\n",
       "\n",
       "    .dataframe thead th {\n",
       "        text-align: right;\n",
       "    }\n",
       "</style>\n",
       "<table border=\"1\" class=\"dataframe\">\n",
       "  <thead>\n",
       "    <tr style=\"text-align: right;\">\n",
       "      <th></th>\n",
       "      <th>PropertyGFATotal</th>\n",
       "      <th>PropertyGFAParking</th>\n",
       "      <th>PropertyGFABuilding(s)</th>\n",
       "    </tr>\n",
       "  </thead>\n",
       "  <tbody>\n",
       "  </tbody>\n",
       "</table>\n",
       "</div>"
      ],
      "text/plain": [
       "Empty DataFrame\n",
       "Columns: [PropertyGFATotal, PropertyGFAParking, PropertyGFABuilding(s)]\n",
       "Index: []"
      ]
     },
     "execution_count": 40,
     "metadata": {},
     "output_type": "execute_result"
    }
   ],
   "source": [
    "df.loc[df['PropertyGFABuilding(s)']<=0, ['PropertyGFATotal', 'PropertyGFAParking', 'PropertyGFABuilding(s)']]"
   ]
  },
  {
   "cell_type": "code",
   "execution_count": 41,
   "metadata": {},
   "outputs": [
    {
     "data": {
      "text/html": [
       "<div>\n",
       "<style scoped>\n",
       "    .dataframe tbody tr th:only-of-type {\n",
       "        vertical-align: middle;\n",
       "    }\n",
       "\n",
       "    .dataframe tbody tr th {\n",
       "        vertical-align: top;\n",
       "    }\n",
       "\n",
       "    .dataframe thead th {\n",
       "        text-align: right;\n",
       "    }\n",
       "</style>\n",
       "<table border=\"1\" class=\"dataframe\">\n",
       "  <thead>\n",
       "    <tr style=\"text-align: right;\">\n",
       "      <th></th>\n",
       "      <th>PropertyGFATotal</th>\n",
       "      <th>PropertyGFAParking</th>\n",
       "      <th>PropertyGFABuilding(s)</th>\n",
       "    </tr>\n",
       "  </thead>\n",
       "  <tbody>\n",
       "    <tr>\n",
       "      <th>1176</th>\n",
       "      <td>68452</td>\n",
       "      <td>-2</td>\n",
       "      <td>68454</td>\n",
       "    </tr>\n",
       "  </tbody>\n",
       "</table>\n",
       "</div>"
      ],
      "text/plain": [
       "      PropertyGFATotal  PropertyGFAParking  PropertyGFABuilding(s)\n",
       "1176             68452                  -2                   68454"
      ]
     },
     "execution_count": 41,
     "metadata": {},
     "output_type": "execute_result"
    }
   ],
   "source": [
    "df.loc[df['PropertyGFAParking']<0, ['PropertyGFATotal', 'PropertyGFAParking', 'PropertyGFABuilding(s)']]"
   ]
  },
  {
   "cell_type": "code",
   "execution_count": 42,
   "metadata": {},
   "outputs": [
    {
     "name": "stdout",
     "output_type": "stream",
     "text": [
      "Int64Index([1176], dtype='int64')\n"
     ]
    }
   ],
   "source": [
    "ind = df.loc[df['PropertyGFAParking']<0].index\n",
    "print(ind)\n",
    "df.drop(ind, axis=0, inplace=True)"
   ]
  },
  {
   "cell_type": "code",
   "execution_count": 43,
   "metadata": {},
   "outputs": [
    {
     "data": {
      "text/html": [
       "<div>\n",
       "<style scoped>\n",
       "    .dataframe tbody tr th:only-of-type {\n",
       "        vertical-align: middle;\n",
       "    }\n",
       "\n",
       "    .dataframe tbody tr th {\n",
       "        vertical-align: top;\n",
       "    }\n",
       "\n",
       "    .dataframe thead th {\n",
       "        text-align: right;\n",
       "    }\n",
       "</style>\n",
       "<table border=\"1\" class=\"dataframe\">\n",
       "  <thead>\n",
       "    <tr style=\"text-align: right;\">\n",
       "      <th></th>\n",
       "      <th>PropertyGFATotal</th>\n",
       "      <th>PropertyGFAParking</th>\n",
       "      <th>PropertyGFABuilding(s)</th>\n",
       "    </tr>\n",
       "  </thead>\n",
       "  <tbody>\n",
       "  </tbody>\n",
       "</table>\n",
       "</div>"
      ],
      "text/plain": [
       "Empty DataFrame\n",
       "Columns: [PropertyGFATotal, PropertyGFAParking, PropertyGFABuilding(s)]\n",
       "Index: []"
      ]
     },
     "execution_count": 43,
     "metadata": {},
     "output_type": "execute_result"
    }
   ],
   "source": [
    "df.loc[df['PropertyGFAParking']<0, ['PropertyGFATotal', 'PropertyGFAParking', 'PropertyGFABuilding(s)']]"
   ]
  },
  {
   "cell_type": "markdown",
   "metadata": {},
   "source": [
    "#### Save dataframe"
   ]
  },
  {
   "cell_type": "code",
   "execution_count": 44,
   "metadata": {},
   "outputs": [],
   "source": [
    "df.to_csv(r'E:/OpenClassrooms/Projet4/building_energy_benchmark_2015-2016_clean.csv', index = False)"
   ]
  },
  {
   "cell_type": "markdown",
   "metadata": {},
   "source": [
    "# Exploration"
   ]
  },
  {
   "cell_type": "code",
   "execution_count": 45,
   "metadata": {},
   "outputs": [],
   "source": [
    "df = pd.read_csv(os.path.join(\"E:/OpenClassrooms/Projet4\", \"building_energy_benchmark_2015-2016_clean.csv\"), low_memory = False)"
   ]
  },
  {
   "cell_type": "code",
   "execution_count": 46,
   "metadata": {},
   "outputs": [
    {
     "data": {
      "text/plain": [
       "['OSEBuildingID',\n",
       " 'DataYear',\n",
       " 'BuildingType',\n",
       " 'PrimaryPropertyType',\n",
       " 'PropertyName',\n",
       " 'TaxParcelIdentificationNumber',\n",
       " 'CouncilDistrictCode',\n",
       " 'YearBuilt',\n",
       " 'NumberofBuildings',\n",
       " 'NumberofFloors',\n",
       " 'PropertyGFATotal',\n",
       " 'PropertyGFAParking',\n",
       " 'PropertyGFABuilding(s)',\n",
       " 'ListOfAllPropertyUseTypes',\n",
       " 'LargestPropertyUseType',\n",
       " 'LargestPropertyUseTypeGFA',\n",
       " 'SecondLargestPropertyUseType',\n",
       " 'SecondLargestPropertyUseTypeGFA',\n",
       " 'ThirdLargestPropertyUseType',\n",
       " 'ThirdLargestPropertyUseTypeGFA',\n",
       " 'YearsENERGYSTARCertified',\n",
       " 'ENERGYSTARScore',\n",
       " 'SiteEUI(kBtu/sf)',\n",
       " 'SourceEUI(kBtu/sf)',\n",
       " 'SiteEnergyUse(kBtu)',\n",
       " 'SteamUse(kBtu)',\n",
       " 'Electricity(kWh)',\n",
       " 'NaturalGas(kBtu)',\n",
       " 'TotalGHGEmissions',\n",
       " 'GHGEmissionsIntensity',\n",
       " 'Latitude',\n",
       " 'Longitude',\n",
       " 'Address']"
      ]
     },
     "execution_count": 46,
     "metadata": {},
     "output_type": "execute_result"
    }
   ],
   "source": [
    "df.columns.tolist()"
   ]
  },
  {
   "cell_type": "code",
   "execution_count": 47,
   "metadata": {},
   "outputs": [],
   "source": [
    "# Create a list of all the continuous variables\n",
    "list_quantitative = ['YearBuilt', 'NumberofBuildings', 'NumberofFloors', 'PropertyGFATotal', 'PropertyGFAParking', 'PropertyGFABuilding(s)',\n",
    "                    'ENERGYSTARScore', 'SiteEUI(kBtu/sf)', 'SourceEUI(kBtu/sf)', 'SiteEnergyUse(kBtu)', 'SteamUse(kBtu)', 'Electricity(kWh)',\n",
    "                    'NaturalGas(kBtu)', 'TotalGHGEmissions', 'GHGEmissionsIntensity']"
   ]
  },
  {
   "cell_type": "markdown",
   "metadata": {},
   "source": [
    "#### Distributions of the different continuous variables. We notice that most are very asymetric and will require a transformation to  be more symetric and close to a normal distribution. Additionnaly, they are distributed in very different value ranges, therefore they will also need to be scaled, in order for them to be all in (approximately) the same range"
   ]
  },
  {
   "cell_type": "code",
   "execution_count": 58,
   "metadata": {},
   "outputs": [
    {
     "data": {
      "image/png": "[encoded data removed]",
      "text/plain": [
       "<Figure size 1152x576 with 8 Axes>"
      ]
     },
     "metadata": {
      "needs_background": "light"
     },
     "output_type": "display_data"
    }
   ],
   "source": [
    "list_plot_distri = ['NumberofBuildings', 'NumberofFloors', 'PropertyGFATotal', 'PropertyGFAParking', 'PropertyGFABuilding(s)',\n",
    "                    'ENERGYSTARScore', 'SiteEUI(kBtu/sf)', 'SourceEUI(kBtu/sf)']\n",
    "fig = plt.figure(figsize=(16,8))\n",
    "for i in range(len(list_plot_distri)):\n",
    "    ax = fig.add_subplot(2,4,(i+1))\n",
    "    h = ax.hist(df[list_plot_distri[i]], 30)\n",
    "    ax.set_title(list_plot_distri[i])\n",
    "    \n",
    "plt.show()"
   ]
  },
  {
   "cell_type": "code",
   "execution_count": 56,
   "metadata": {},
   "outputs": [
    {
     "data": {
      "image/png": "[encoded data removed]",
      "text/plain": [
       "<Figure size 864x432 with 2 Axes>"
      ]
     },
     "metadata": {
      "needs_background": "light"
     },
     "output_type": "display_data"
    }
   ],
   "source": [
    "fig, (ax1, ax2) = plt.subplots(1, 2, figsize=(12,6))\n",
    "\n",
    "ax1.hist(df['SiteEnergyUse(kBtu)'], 30)\n",
    "ax1.set_title('SiteEnergyUse(kBtu)')\n",
    "\n",
    "ax2.hist(df['TotalGHGEmissions'], 30)\n",
    "ax2.set_title('TotalGHGEmissions')\n",
    "\n",
    "plt.show()"
   ]
  },
  {
   "cell_type": "code",
   "execution_count": 54,
   "metadata": {},
   "outputs": [
    {
     "data": {
      "text/plain": [
       "<AxesSubplot:ylabel='BuildingType'>"
      ]
     },
     "execution_count": 54,
     "metadata": {},
     "output_type": "execute_result"
    },
    {
     "data": {
      "image/png": "[encoded data removed]",
      "text/plain": [
       "<Figure size 720x720 with 1 Axes>"
      ]
     },
     "metadata": {},
     "output_type": "display_data"
    }
   ],
   "source": [
    "# Distribution of the building types\n",
    "df['BuildingType'].value_counts(normalize = False).plot(kind='pie', figsize = (10,10))"
   ]
  },
  {
   "cell_type": "code",
   "execution_count": 55,
   "metadata": {},
   "outputs": [
    {
     "data": {
      "text/plain": [
       "<AxesSubplot:>"
      ]
     },
     "execution_count": 55,
     "metadata": {},
     "output_type": "execute_result"
    },
    {
     "data": {
      "image/png": "[encoded data removed]",
      "text/plain": [
       "<Figure size 720x720 with 1 Axes>"
      ]
     },
     "metadata": {
      "needs_background": "light"
     },
     "output_type": "display_data"
    }
   ],
   "source": [
    "# Distribution of the mealsured buildings in the different neighborhoods\n",
    "df['CouncilDistrictCode'].value_counts(normalize = False).plot(kind='bar', figsize = (10,10))"
   ]
  },
  {
   "cell_type": "code",
   "execution_count": 56,
   "metadata": {},
   "outputs": [
    {
     "data": {
      "text/plain": [
       "Text(0.5, 1.0, 'Distribution of the year of the building construction or last renovation')"
      ]
     },
     "execution_count": 56,
     "metadata": {},
     "output_type": "execute_result"
    },
    {
     "data": {
      "image/png": "[encoded data removed]",
      "text/plain": [
       "<Figure size 1008x720 with 1 Axes>"
      ]
     },
     "metadata": {
      "needs_background": "light"
     },
     "output_type": "display_data"
    }
   ],
   "source": [
    "# Distribution of the building years\n",
    "# We notice a tri-modal distribution, approximately a superposition of 3 normal distribution\n",
    "\n",
    "plt.figure(figsize = (14,10))\n",
    "plt.hist(df['YearBuilt'], 30)\n",
    "\n",
    "plt.xlabel('Year', fontsize = 14)\n",
    "plt.xticks(fontsize = 12)\n",
    "plt.ylabel('Count', fontsize = 14)\n",
    "plt.yticks(fontsize = 12)\n",
    "plt.title('Distribution of the year of the building construction or last renovation', fontsize= 15, fontweight = 'bold')"
   ]
  },
  {
   "cell_type": "markdown",
   "metadata": {},
   "source": [
    "### Link between energy use/GHG emission and building type. Campuses seem to use more energy and emit more GHG than the other building types\n"
   ]
  },
  {
   "cell_type": "code",
   "execution_count": 66,
   "metadata": {},
   "outputs": [
    {
     "data": {
      "text/plain": [
       "<AxesSubplot:title={'center':'SiteEnergyUse(kBtu)'}, xlabel='BuildingType'>"
      ]
     },
     "execution_count": 66,
     "metadata": {},
     "output_type": "execute_result"
    },
    {
     "data": {
      "image/png": "[encoded data removed]",
      "text/plain": [
       "<Figure size 576x432 with 1 Axes>"
      ]
     },
     "metadata": {
      "needs_background": "light"
     },
     "output_type": "display_data"
    }
   ],
   "source": [
    "df.boxplot(column=['SiteEnergyUse(kBtu)'], by='BuildingType', figsize = (8,6), fontsize = 12, vert = True, rot = 50)"
   ]
  },
  {
   "cell_type": "code",
   "execution_count": 68,
   "metadata": {},
   "outputs": [
    {
     "data": {
      "text/plain": [
       "<AxesSubplot:title={'center':'TotalGHGEmissions'}, xlabel='BuildingType'>"
      ]
     },
     "execution_count": 68,
     "metadata": {},
     "output_type": "execute_result"
    },
    {
     "data": {
      "image/png": "[encoded data removed]",
      "text/plain": [
       "<Figure size 576x432 with 1 Axes>"
      ]
     },
     "metadata": {
      "needs_background": "light"
     },
     "output_type": "display_data"
    }
   ],
   "source": [
    "df.boxplot(column=['TotalGHGEmissions'], by='BuildingType', figsize = (8,6), fontsize = 12, vert = True, rot=50)"
   ]
  },
  {
   "cell_type": "markdown",
   "metadata": {},
   "source": [
    "### Correlation between the continuous variables heatmap"
   ]
  },
  {
   "cell_type": "code",
   "execution_count": 59,
   "metadata": {},
   "outputs": [
    {
     "data": {
      "text/plain": [
       "<AxesSubplot:>"
      ]
     },
     "execution_count": 59,
     "metadata": {},
     "output_type": "execute_result"
    },
    {
     "data": {
      "image/png": "[encoded data removed]",
      "text/plain": [
       "<Figure size 936x936 with 2 Axes>"
      ]
     },
     "metadata": {
      "needs_background": "light"
     },
     "output_type": "display_data"
    }
   ],
   "source": [
    "plt.figure(figsize=(13,13))\n",
    "corr = df[list_quantitative].corr() \n",
    "mask = np.triu(corr)\n",
    "sns.heatmap(corr, mask=mask, annot=True)"
   ]
  },
  {
   "cell_type": "code",
   "execution_count": 60,
   "metadata": {},
   "outputs": [],
   "source": [
    "df.to_csv(r'E:/OpenClassrooms/Projet4/building_energy_benchmark_2015-2016_explored.csv', index = False)"
   ]
  },
  {
   "cell_type": "markdown",
   "metadata": {},
   "source": [
    "# Feature engineering\n",
    "#### We need to prepare the dataframe for the tranformations and the ML algorithms"
   ]
  },
  {
   "cell_type": "code",
   "execution_count": 61,
   "metadata": {},
   "outputs": [],
   "source": [
    "df = pd.read_csv(os.path.join(\"E:/OpenClassrooms/Projet4\", \"building_energy_benchmark_2015-2016_explored.csv\"), low_memory = False)"
   ]
  },
  {
   "cell_type": "markdown",
   "metadata": {},
   "source": [
    "### Transform largest property use to GFA\n",
    "#### The property uses are given in strings, we need to convert to numerical values. Rather than just attributing a number to each use, we can put the GFA dedicated to each use for each building."
   ]
  },
  {
   "cell_type": "code",
   "execution_count": 62,
   "metadata": {},
   "outputs": [],
   "source": [
    "LargestType = df['LargestPropertyUseType'].unique().tolist()\n",
    "SecondaryType = df['SecondLargestPropertyUseType'].unique().tolist()\n",
    "TertiaryType = df['ThirdLargestPropertyUseType'].unique().tolist()\n",
    "\n",
    "all_type = set(LargestType + SecondaryType + TertiaryType)"
   ]
  },
  {
   "cell_type": "code",
   "execution_count": 63,
   "metadata": {},
   "outputs": [
    {
     "data": {
      "text/plain": [
       "{'Adult Education',\n",
       " 'Automobile Dealership',\n",
       " 'Bank Branch',\n",
       " 'Bar/Nightclub',\n",
       " 'College/University',\n",
       " 'Convenience Store without Gas Station',\n",
       " 'Convention Center',\n",
       " 'Courthouse',\n",
       " 'Data Center',\n",
       " 'Distribution Center',\n",
       " 'Enclosed Mall',\n",
       " 'Fast Food Restaurant',\n",
       " 'Financial Office',\n",
       " 'Fire Station',\n",
       " 'Fitness Center/Health Club/Gym',\n",
       " 'Food Sales',\n",
       " 'Food Service',\n",
       " 'Hospital (General Medical & Surgical)',\n",
       " 'Hotel',\n",
       " 'K-12 School',\n",
       " 'Laboratory',\n",
       " 'Library',\n",
       " 'Lifestyle Center',\n",
       " 'Manufacturing/Industrial Plant',\n",
       " 'Medical Office',\n",
       " 'Movie Theater',\n",
       " 'Multifamily Housing',\n",
       " 'Museum',\n",
       " 'Non-Refrigerated Warehouse',\n",
       " 'Office',\n",
       " 'Other',\n",
       " 'Other - Education',\n",
       " 'Other - Entertainment/Public Assembly',\n",
       " 'Other - Lodging/Residential',\n",
       " 'Other - Mall',\n",
       " 'Other - Public Services',\n",
       " 'Other - Recreation',\n",
       " 'Other - Restaurant/Bar',\n",
       " 'Other - Services',\n",
       " 'Other - Technology/Science',\n",
       " 'Other - Utility',\n",
       " 'Other/Specialty Hospital',\n",
       " 'Outpatient Rehabilitation/Physical Therapy',\n",
       " 'Parking',\n",
       " 'Performing Arts',\n",
       " 'Personal Services (Health/Beauty, Dry Cleaning, etc)',\n",
       " 'Police Station',\n",
       " 'Pre-school/Daycare',\n",
       " 'Prison/Incarceration',\n",
       " 'Refrigerated Warehouse',\n",
       " 'Repair Services (Vehicle, Shoe, Locksmith, etc)',\n",
       " 'Residence Hall/Dormitory',\n",
       " 'Residential Care Facility',\n",
       " 'Restaurant',\n",
       " 'Retail Store',\n",
       " 'Self-Storage Facility',\n",
       " 'Senior Care Community',\n",
       " 'Social/Meeting Hall',\n",
       " 'Strip Mall',\n",
       " 'Supermarket/Grocery Store',\n",
       " 'Swimming Pool',\n",
       " 'Urgent Care/Clinic/Other Outpatient',\n",
       " 'Vocational School',\n",
       " 'Wholesale Club/Supercenter',\n",
       " 'Worship Facility'}"
      ]
     },
     "execution_count": 63,
     "metadata": {},
     "output_type": "execute_result"
    }
   ],
   "source": [
    "all_type.remove(np.nan)\n",
    "all_type"
   ]
  },
  {
   "cell_type": "markdown",
   "metadata": {},
   "source": [
    "#### We first create a df filled with zeroes, with colupns corresponding to the different property uses"
   ]
  },
  {
   "cell_type": "code",
   "execution_count": 64,
   "metadata": {},
   "outputs": [
    {
     "data": {
      "text/html": [
       "<div>\n",
       "<style scoped>\n",
       "    .dataframe tbody tr th:only-of-type {\n",
       "        vertical-align: middle;\n",
       "    }\n",
       "\n",
       "    .dataframe tbody tr th {\n",
       "        vertical-align: top;\n",
       "    }\n",
       "\n",
       "    .dataframe thead th {\n",
       "        text-align: right;\n",
       "    }\n",
       "</style>\n",
       "<table border=\"1\" class=\"dataframe\">\n",
       "  <thead>\n",
       "    <tr style=\"text-align: right;\">\n",
       "      <th></th>\n",
       "      <th>Other - Public Services</th>\n",
       "      <th>Residence Hall/Dormitory</th>\n",
       "      <th>Adult Education</th>\n",
       "      <th>Fast Food Restaurant</th>\n",
       "      <th>Data Center</th>\n",
       "      <th>Other - Services</th>\n",
       "      <th>Library</th>\n",
       "      <th>Personal Services (Health/Beauty, Dry Cleaning, etc)</th>\n",
       "      <th>Bar/Nightclub</th>\n",
       "      <th>Self-Storage Facility</th>\n",
       "      <th>...</th>\n",
       "      <th>Museum</th>\n",
       "      <th>Outpatient Rehabilitation/Physical Therapy</th>\n",
       "      <th>Bank Branch</th>\n",
       "      <th>Food Service</th>\n",
       "      <th>Other - Entertainment/Public Assembly</th>\n",
       "      <th>Other - Technology/Science</th>\n",
       "      <th>Courthouse</th>\n",
       "      <th>Other - Education</th>\n",
       "      <th>Laboratory</th>\n",
       "      <th>Fitness Center/Health Club/Gym</th>\n",
       "    </tr>\n",
       "  </thead>\n",
       "  <tbody>\n",
       "    <tr>\n",
       "      <th>0</th>\n",
       "      <td>0</td>\n",
       "      <td>0</td>\n",
       "      <td>0</td>\n",
       "      <td>0</td>\n",
       "      <td>0</td>\n",
       "      <td>0</td>\n",
       "      <td>0</td>\n",
       "      <td>0</td>\n",
       "      <td>0</td>\n",
       "      <td>0</td>\n",
       "      <td>...</td>\n",
       "      <td>0</td>\n",
       "      <td>0</td>\n",
       "      <td>0</td>\n",
       "      <td>0</td>\n",
       "      <td>0</td>\n",
       "      <td>0</td>\n",
       "      <td>0</td>\n",
       "      <td>0</td>\n",
       "      <td>0</td>\n",
       "      <td>0</td>\n",
       "    </tr>\n",
       "    <tr>\n",
       "      <th>1</th>\n",
       "      <td>0</td>\n",
       "      <td>0</td>\n",
       "      <td>0</td>\n",
       "      <td>0</td>\n",
       "      <td>0</td>\n",
       "      <td>0</td>\n",
       "      <td>0</td>\n",
       "      <td>0</td>\n",
       "      <td>0</td>\n",
       "      <td>0</td>\n",
       "      <td>...</td>\n",
       "      <td>0</td>\n",
       "      <td>0</td>\n",
       "      <td>0</td>\n",
       "      <td>0</td>\n",
       "      <td>0</td>\n",
       "      <td>0</td>\n",
       "      <td>0</td>\n",
       "      <td>0</td>\n",
       "      <td>0</td>\n",
       "      <td>0</td>\n",
       "    </tr>\n",
       "    <tr>\n",
       "      <th>2</th>\n",
       "      <td>0</td>\n",
       "      <td>0</td>\n",
       "      <td>0</td>\n",
       "      <td>0</td>\n",
       "      <td>0</td>\n",
       "      <td>0</td>\n",
       "      <td>0</td>\n",
       "      <td>0</td>\n",
       "      <td>0</td>\n",
       "      <td>0</td>\n",
       "      <td>...</td>\n",
       "      <td>0</td>\n",
       "      <td>0</td>\n",
       "      <td>0</td>\n",
       "      <td>0</td>\n",
       "      <td>0</td>\n",
       "      <td>0</td>\n",
       "      <td>0</td>\n",
       "      <td>0</td>\n",
       "      <td>0</td>\n",
       "      <td>0</td>\n",
       "    </tr>\n",
       "    <tr>\n",
       "      <th>3</th>\n",
       "      <td>0</td>\n",
       "      <td>0</td>\n",
       "      <td>0</td>\n",
       "      <td>0</td>\n",
       "      <td>0</td>\n",
       "      <td>0</td>\n",
       "      <td>0</td>\n",
       "      <td>0</td>\n",
       "      <td>0</td>\n",
       "      <td>0</td>\n",
       "      <td>...</td>\n",
       "      <td>0</td>\n",
       "      <td>0</td>\n",
       "      <td>0</td>\n",
       "      <td>0</td>\n",
       "      <td>0</td>\n",
       "      <td>0</td>\n",
       "      <td>0</td>\n",
       "      <td>0</td>\n",
       "      <td>0</td>\n",
       "      <td>0</td>\n",
       "    </tr>\n",
       "    <tr>\n",
       "      <th>4</th>\n",
       "      <td>0</td>\n",
       "      <td>0</td>\n",
       "      <td>0</td>\n",
       "      <td>0</td>\n",
       "      <td>0</td>\n",
       "      <td>0</td>\n",
       "      <td>0</td>\n",
       "      <td>0</td>\n",
       "      <td>0</td>\n",
       "      <td>0</td>\n",
       "      <td>...</td>\n",
       "      <td>0</td>\n",
       "      <td>0</td>\n",
       "      <td>0</td>\n",
       "      <td>0</td>\n",
       "      <td>0</td>\n",
       "      <td>0</td>\n",
       "      <td>0</td>\n",
       "      <td>0</td>\n",
       "      <td>0</td>\n",
       "      <td>0</td>\n",
       "    </tr>\n",
       "  </tbody>\n",
       "</table>\n",
       "<p>5 rows × 65 columns</p>\n",
       "</div>"
      ],
      "text/plain": [
       "   Other - Public Services  Residence Hall/Dormitory  Adult Education  \\\n",
       "0                        0                         0                0   \n",
       "1                        0                         0                0   \n",
       "2                        0                         0                0   \n",
       "3                        0                         0                0   \n",
       "4                        0                         0                0   \n",
       "\n",
       "   Fast Food Restaurant  Data Center  Other - Services  Library  \\\n",
       "0                     0            0                 0        0   \n",
       "1                     0            0                 0        0   \n",
       "2                     0            0                 0        0   \n",
       "3                     0            0                 0        0   \n",
       "4                     0            0                 0        0   \n",
       "\n",
       "   Personal Services (Health/Beauty, Dry Cleaning, etc)  Bar/Nightclub  \\\n",
       "0                                                  0                 0   \n",
       "1                                                  0                 0   \n",
       "2                                                  0                 0   \n",
       "3                                                  0                 0   \n",
       "4                                                  0                 0   \n",
       "\n",
       "   Self-Storage Facility  ...  Museum  \\\n",
       "0                      0  ...       0   \n",
       "1                      0  ...       0   \n",
       "2                      0  ...       0   \n",
       "3                      0  ...       0   \n",
       "4                      0  ...       0   \n",
       "\n",
       "   Outpatient Rehabilitation/Physical Therapy  Bank Branch  Food Service  \\\n",
       "0                                           0            0             0   \n",
       "1                                           0            0             0   \n",
       "2                                           0            0             0   \n",
       "3                                           0            0             0   \n",
       "4                                           0            0             0   \n",
       "\n",
       "   Other - Entertainment/Public Assembly  Other - Technology/Science  \\\n",
       "0                                      0                           0   \n",
       "1                                      0                           0   \n",
       "2                                      0                           0   \n",
       "3                                      0                           0   \n",
       "4                                      0                           0   \n",
       "\n",
       "   Courthouse  Other - Education  Laboratory  Fitness Center/Health Club/Gym  \n",
       "0           0                  0           0                               0  \n",
       "1           0                  0           0                               0  \n",
       "2           0                  0           0                               0  \n",
       "3           0                  0           0                               0  \n",
       "4           0                  0           0                               0  \n",
       "\n",
       "[5 rows x 65 columns]"
      ]
     },
     "execution_count": 64,
     "metadata": {},
     "output_type": "execute_result"
    }
   ],
   "source": [
    "d = pd.DataFrame(0, index=df.index, columns = all_type)\n",
    "d.head()"
   ]
  },
  {
   "cell_type": "markdown",
   "metadata": {},
   "source": [
    "#### For each building, we retrieve the different property uses and their dedicated GFA. We then fill the new df with the GFAs (gives a sparse dataframe)"
   ]
  },
  {
   "cell_type": "code",
   "execution_count": 65,
   "metadata": {},
   "outputs": [],
   "source": [
    "for i in df.index:\n",
    "    LargestType = df.loc[i, 'LargestPropertyUseType']\n",
    "    LargestGFA = df.loc[i, 'LargestPropertyUseTypeGFA']\n",
    "    \n",
    "    SecondLargestType = df.loc[i, 'SecondLargestPropertyUseType']\n",
    "    SecondLargestGFA = df.loc[i, 'SecondLargestPropertyUseTypeGFA']\n",
    "    \n",
    "    ThirdLargestType = df.loc[i, 'ThirdLargestPropertyUseType']\n",
    "    ThirdLargestGFA = df.loc[i, 'ThirdLargestPropertyUseTypeGFA']\n",
    "    \n",
    "    d.loc[i, LargestType] = LargestGFA\n",
    "    d.loc[i, SecondLargestType] = SecondLargestGFA\n",
    "    d.loc[i, ThirdLargestType] = ThirdLargestGFA"
   ]
  },
  {
   "cell_type": "code",
   "execution_count": 66,
   "metadata": {},
   "outputs": [],
   "source": [
    "d = d.drop(np.nan, axis = 1)\n",
    "d.fillna(0, inplace = True)"
   ]
  },
  {
   "cell_type": "code",
   "execution_count": 67,
   "metadata": {},
   "outputs": [
    {
     "data": {
      "text/plain": [
       "LargestPropertyUseType             Self-Storage Facility\n",
       "LargestPropertyUseTypeGFA                          21018\n",
       "SecondLargestPropertyUseType                     Parking\n",
       "SecondLargestPropertyUseTypeGFA                     3230\n",
       "ThirdLargestPropertyUseType                          NaN\n",
       "ThirdLargestPropertyUseTypeGFA                       NaN\n",
       "Name: 1, dtype: object"
      ]
     },
     "execution_count": 67,
     "metadata": {},
     "output_type": "execute_result"
    }
   ],
   "source": [
    "# Check \n",
    "df.loc[1, ['LargestPropertyUseType',\n",
    "           'LargestPropertyUseTypeGFA',\n",
    "           'SecondLargestPropertyUseType',\n",
    "           'SecondLargestPropertyUseTypeGFA',\n",
    "           'ThirdLargestPropertyUseType',\n",
    "           'ThirdLargestPropertyUseTypeGFA'\n",
    "          ]\n",
    "      ]"
   ]
  },
  {
   "cell_type": "code",
   "execution_count": 68,
   "metadata": {},
   "outputs": [
    {
     "name": "stdout",
     "output_type": "stream",
     "text": [
      "24248.0\n",
      "Self-Storage Facility    21018.0\n",
      "Parking                   3230.0\n",
      "Name: 1, dtype: float64\n"
     ]
    }
   ],
   "source": [
    "print(d.loc[1, :].sum())\n",
    "print(d.loc[1, ['Self-Storage Facility', 'Parking']])"
   ]
  },
  {
   "cell_type": "markdown",
   "metadata": {},
   "source": [
    "#### Concatenate the original df and the sparse df, then delete the now-irrelevant variables"
   ]
  },
  {
   "cell_type": "code",
   "execution_count": 69,
   "metadata": {},
   "outputs": [],
   "source": [
    "new_df = pd.concat([df, d], axis = 1)"
   ]
  },
  {
   "cell_type": "code",
   "execution_count": 70,
   "metadata": {},
   "outputs": [
    {
     "name": "stdout",
     "output_type": "stream",
     "text": [
      "(3313, 98)\n"
     ]
    },
    {
     "data": {
      "text/html": [
       "<div>\n",
       "<style scoped>\n",
       "    .dataframe tbody tr th:only-of-type {\n",
       "        vertical-align: middle;\n",
       "    }\n",
       "\n",
       "    .dataframe tbody tr th {\n",
       "        vertical-align: top;\n",
       "    }\n",
       "\n",
       "    .dataframe thead th {\n",
       "        text-align: right;\n",
       "    }\n",
       "</style>\n",
       "<table border=\"1\" class=\"dataframe\">\n",
       "  <thead>\n",
       "    <tr style=\"text-align: right;\">\n",
       "      <th></th>\n",
       "      <th>OSEBuildingID</th>\n",
       "      <th>DataYear</th>\n",
       "      <th>BuildingType</th>\n",
       "      <th>PrimaryPropertyType</th>\n",
       "      <th>PropertyName</th>\n",
       "      <th>TaxParcelIdentificationNumber</th>\n",
       "      <th>CouncilDistrictCode</th>\n",
       "      <th>YearBuilt</th>\n",
       "      <th>NumberofBuildings</th>\n",
       "      <th>NumberofFloors</th>\n",
       "      <th>...</th>\n",
       "      <th>Museum</th>\n",
       "      <th>Outpatient Rehabilitation/Physical Therapy</th>\n",
       "      <th>Bank Branch</th>\n",
       "      <th>Food Service</th>\n",
       "      <th>Other - Entertainment/Public Assembly</th>\n",
       "      <th>Other - Technology/Science</th>\n",
       "      <th>Courthouse</th>\n",
       "      <th>Other - Education</th>\n",
       "      <th>Laboratory</th>\n",
       "      <th>Fitness Center/Health Club/Gym</th>\n",
       "    </tr>\n",
       "  </thead>\n",
       "  <tbody>\n",
       "    <tr>\n",
       "      <th>0</th>\n",
       "      <td>1</td>\n",
       "      <td>2015</td>\n",
       "      <td>NonResidential</td>\n",
       "      <td>Hotel</td>\n",
       "      <td>MAYFLOWER PARK HOTEL</td>\n",
       "      <td>659000030</td>\n",
       "      <td>7</td>\n",
       "      <td>1927</td>\n",
       "      <td>1.0</td>\n",
       "      <td>12.0</td>\n",
       "      <td>...</td>\n",
       "      <td>0.0</td>\n",
       "      <td>0.0</td>\n",
       "      <td>0.0</td>\n",
       "      <td>0.0</td>\n",
       "      <td>0.0</td>\n",
       "      <td>0.0</td>\n",
       "      <td>0.0</td>\n",
       "      <td>0.0</td>\n",
       "      <td>0.0</td>\n",
       "      <td>0.0</td>\n",
       "    </tr>\n",
       "    <tr>\n",
       "      <th>1</th>\n",
       "      <td>24758</td>\n",
       "      <td>2015</td>\n",
       "      <td>NonResidential</td>\n",
       "      <td>Self-Storage Facility\\n</td>\n",
       "      <td>WAREHOUSE</td>\n",
       "      <td>3225049017</td>\n",
       "      <td>3</td>\n",
       "      <td>1962</td>\n",
       "      <td>1.0</td>\n",
       "      <td>1.0</td>\n",
       "      <td>...</td>\n",
       "      <td>0.0</td>\n",
       "      <td>0.0</td>\n",
       "      <td>0.0</td>\n",
       "      <td>0.0</td>\n",
       "      <td>0.0</td>\n",
       "      <td>0.0</td>\n",
       "      <td>0.0</td>\n",
       "      <td>0.0</td>\n",
       "      <td>0.0</td>\n",
       "      <td>0.0</td>\n",
       "    </tr>\n",
       "    <tr>\n",
       "      <th>2</th>\n",
       "      <td>24769</td>\n",
       "      <td>2015</td>\n",
       "      <td>NonResidential</td>\n",
       "      <td>Senior Care Community</td>\n",
       "      <td>ALJOYA THORNTON PLACE</td>\n",
       "      <td>3226049568</td>\n",
       "      <td>5</td>\n",
       "      <td>2009</td>\n",
       "      <td>1.0</td>\n",
       "      <td>6.0</td>\n",
       "      <td>...</td>\n",
       "      <td>0.0</td>\n",
       "      <td>0.0</td>\n",
       "      <td>0.0</td>\n",
       "      <td>0.0</td>\n",
       "      <td>0.0</td>\n",
       "      <td>0.0</td>\n",
       "      <td>0.0</td>\n",
       "      <td>0.0</td>\n",
       "      <td>0.0</td>\n",
       "      <td>0.0</td>\n",
       "    </tr>\n",
       "    <tr>\n",
       "      <th>3</th>\n",
       "      <td>24778</td>\n",
       "      <td>2015</td>\n",
       "      <td>NonResidential</td>\n",
       "      <td>Non-Refrigerated Warehouse</td>\n",
       "      <td>5055 Properties LLC</td>\n",
       "      <td>3573201061</td>\n",
       "      <td>2</td>\n",
       "      <td>1932</td>\n",
       "      <td>1.0</td>\n",
       "      <td>1.0</td>\n",
       "      <td>...</td>\n",
       "      <td>0.0</td>\n",
       "      <td>0.0</td>\n",
       "      <td>0.0</td>\n",
       "      <td>0.0</td>\n",
       "      <td>0.0</td>\n",
       "      <td>0.0</td>\n",
       "      <td>0.0</td>\n",
       "      <td>0.0</td>\n",
       "      <td>0.0</td>\n",
       "      <td>0.0</td>\n",
       "    </tr>\n",
       "    <tr>\n",
       "      <th>4</th>\n",
       "      <td>24780</td>\n",
       "      <td>2015</td>\n",
       "      <td>NonResidential</td>\n",
       "      <td>Other</td>\n",
       "      <td>The Innovation Center (MCKINSTRY)</td>\n",
       "      <td>3573700130</td>\n",
       "      <td>2</td>\n",
       "      <td>2009</td>\n",
       "      <td>1.0</td>\n",
       "      <td>3.0</td>\n",
       "      <td>...</td>\n",
       "      <td>0.0</td>\n",
       "      <td>0.0</td>\n",
       "      <td>0.0</td>\n",
       "      <td>0.0</td>\n",
       "      <td>0.0</td>\n",
       "      <td>0.0</td>\n",
       "      <td>0.0</td>\n",
       "      <td>0.0</td>\n",
       "      <td>0.0</td>\n",
       "      <td>0.0</td>\n",
       "    </tr>\n",
       "  </tbody>\n",
       "</table>\n",
       "<p>5 rows × 98 columns</p>\n",
       "</div>"
      ],
      "text/plain": [
       "   OSEBuildingID  DataYear    BuildingType         PrimaryPropertyType  \\\n",
       "0              1      2015  NonResidential                       Hotel   \n",
       "1          24758      2015  NonResidential     Self-Storage Facility\\n   \n",
       "2          24769      2015  NonResidential       Senior Care Community   \n",
       "3          24778      2015  NonResidential  Non-Refrigerated Warehouse   \n",
       "4          24780      2015  NonResidential                       Other   \n",
       "\n",
       "                        PropertyName TaxParcelIdentificationNumber  \\\n",
       "0               MAYFLOWER PARK HOTEL                     659000030   \n",
       "1                          WAREHOUSE                    3225049017   \n",
       "2              ALJOYA THORNTON PLACE                    3226049568   \n",
       "3                5055 Properties LLC                    3573201061   \n",
       "4  The Innovation Center (MCKINSTRY)                    3573700130   \n",
       "\n",
       "   CouncilDistrictCode  YearBuilt  NumberofBuildings  NumberofFloors  ...  \\\n",
       "0                    7       1927                1.0            12.0  ...   \n",
       "1                    3       1962                1.0             1.0  ...   \n",
       "2                    5       2009                1.0             6.0  ...   \n",
       "3                    2       1932                1.0             1.0  ...   \n",
       "4                    2       2009                1.0             3.0  ...   \n",
       "\n",
       "   Museum  Outpatient Rehabilitation/Physical Therapy  Bank Branch  \\\n",
       "0     0.0                                         0.0          0.0   \n",
       "1     0.0                                         0.0          0.0   \n",
       "2     0.0                                         0.0          0.0   \n",
       "3     0.0                                         0.0          0.0   \n",
       "4     0.0                                         0.0          0.0   \n",
       "\n",
       "  Food Service Other - Entertainment/Public Assembly  \\\n",
       "0          0.0                                   0.0   \n",
       "1          0.0                                   0.0   \n",
       "2          0.0                                   0.0   \n",
       "3          0.0                                   0.0   \n",
       "4          0.0                                   0.0   \n",
       "\n",
       "   Other - Technology/Science Courthouse  Other - Education Laboratory  \\\n",
       "0                         0.0        0.0                0.0        0.0   \n",
       "1                         0.0        0.0                0.0        0.0   \n",
       "2                         0.0        0.0                0.0        0.0   \n",
       "3                         0.0        0.0                0.0        0.0   \n",
       "4                         0.0        0.0                0.0        0.0   \n",
       "\n",
       "   Fitness Center/Health Club/Gym  \n",
       "0                             0.0  \n",
       "1                             0.0  \n",
       "2                             0.0  \n",
       "3                             0.0  \n",
       "4                             0.0  \n",
       "\n",
       "[5 rows x 98 columns]"
      ]
     },
     "execution_count": 70,
     "metadata": {},
     "output_type": "execute_result"
    }
   ],
   "source": [
    "print(new_df.shape)\n",
    "new_df.head()"
   ]
  },
  {
   "cell_type": "code",
   "execution_count": 71,
   "metadata": {},
   "outputs": [],
   "source": [
    "# Delete irrelevant variables\n",
    "new_df.drop(\n",
    "    [\n",
    "        'LargestPropertyUseType',\n",
    "        'LargestPropertyUseTypeGFA',\n",
    "        'SecondLargestPropertyUseType',\n",
    "        'SecondLargestPropertyUseTypeGFA',\n",
    "        'ThirdLargestPropertyUseType',\n",
    "        'ThirdLargestPropertyUseTypeGFA'\n",
    "    ], \n",
    "    inplace = True, \n",
    "    axis = 1\n",
    ")"
   ]
  },
  {
   "cell_type": "code",
   "execution_count": 72,
   "metadata": {},
   "outputs": [
    {
     "data": {
      "text/plain": [
       "(3313, 92)"
      ]
     },
     "execution_count": 72,
     "metadata": {},
     "output_type": "execute_result"
    }
   ],
   "source": [
    "new_df.shape"
   ]
  },
  {
   "cell_type": "code",
   "execution_count": 73,
   "metadata": {},
   "outputs": [
    {
     "data": {
      "text/plain": [
       "['OSEBuildingID',\n",
       " 'DataYear',\n",
       " 'BuildingType',\n",
       " 'PrimaryPropertyType',\n",
       " 'PropertyName',\n",
       " 'TaxParcelIdentificationNumber',\n",
       " 'CouncilDistrictCode',\n",
       " 'YearBuilt',\n",
       " 'NumberofBuildings',\n",
       " 'NumberofFloors',\n",
       " 'PropertyGFATotal',\n",
       " 'PropertyGFAParking',\n",
       " 'PropertyGFABuilding(s)',\n",
       " 'ListOfAllPropertyUseTypes',\n",
       " 'YearsENERGYSTARCertified',\n",
       " 'ENERGYSTARScore',\n",
       " 'SiteEUI(kBtu/sf)',\n",
       " 'SourceEUI(kBtu/sf)',\n",
       " 'SiteEnergyUse(kBtu)',\n",
       " 'SteamUse(kBtu)',\n",
       " 'Electricity(kWh)',\n",
       " 'NaturalGas(kBtu)',\n",
       " 'TotalGHGEmissions',\n",
       " 'GHGEmissionsIntensity',\n",
       " 'Latitude',\n",
       " 'Longitude',\n",
       " 'Address',\n",
       " 'Other - Public Services',\n",
       " 'Residence Hall/Dormitory',\n",
       " 'Adult Education',\n",
       " 'Fast Food Restaurant',\n",
       " 'Data Center',\n",
       " 'Other - Services',\n",
       " 'Library',\n",
       " 'Personal Services (Health/Beauty, Dry Cleaning, etc)',\n",
       " 'Bar/Nightclub',\n",
       " 'Self-Storage Facility',\n",
       " 'Urgent Care/Clinic/Other Outpatient',\n",
       " 'Strip Mall',\n",
       " 'Non-Refrigerated Warehouse',\n",
       " 'Lifestyle Center',\n",
       " 'Police Station',\n",
       " 'Fire Station',\n",
       " 'Prison/Incarceration',\n",
       " 'Senior Care Community',\n",
       " 'Performing Arts',\n",
       " 'Refrigerated Warehouse',\n",
       " 'Pre-school/Daycare',\n",
       " 'Other - Utility',\n",
       " 'College/University',\n",
       " 'Supermarket/Grocery Store',\n",
       " 'Residential Care Facility',\n",
       " 'Parking',\n",
       " 'Financial Office',\n",
       " 'Convention Center',\n",
       " 'Restaurant',\n",
       " 'Food Sales',\n",
       " 'Office',\n",
       " 'K-12 School',\n",
       " 'Other/Specialty Hospital',\n",
       " 'Social/Meeting Hall',\n",
       " 'Vocational School',\n",
       " 'Automobile Dealership',\n",
       " 'Hospital (General Medical & Surgical)',\n",
       " 'Convenience Store without Gas Station',\n",
       " 'Retail Store',\n",
       " 'Enclosed Mall',\n",
       " 'Multifamily Housing',\n",
       " 'Other - Restaurant/Bar',\n",
       " 'Other - Lodging/Residential',\n",
       " 'Other - Recreation',\n",
       " 'Worship Facility',\n",
       " 'Hotel',\n",
       " 'Other',\n",
       " 'Movie Theater',\n",
       " 'Other - Mall',\n",
       " 'Medical Office',\n",
       " 'Distribution Center',\n",
       " 'Wholesale Club/Supercenter',\n",
       " 'Repair Services (Vehicle, Shoe, Locksmith, etc)',\n",
       " 'Swimming Pool',\n",
       " 'Manufacturing/Industrial Plant',\n",
       " 'Museum',\n",
       " 'Outpatient Rehabilitation/Physical Therapy',\n",
       " 'Bank Branch',\n",
       " 'Food Service',\n",
       " 'Other - Entertainment/Public Assembly',\n",
       " 'Other - Technology/Science',\n",
       " 'Courthouse',\n",
       " 'Other - Education',\n",
       " 'Laboratory',\n",
       " 'Fitness Center/Health Club/Gym']"
      ]
     },
     "execution_count": 73,
     "metadata": {},
     "output_type": "execute_result"
    }
   ],
   "source": [
    "new_df.columns.tolist()"
   ]
  },
  {
   "cell_type": "code",
   "execution_count": 74,
   "metadata": {},
   "outputs": [
    {
     "name": "stdout",
     "output_type": "stream",
     "text": [
      "0                             Hotel\n",
      "1    Parking, Self-Storage Facility\n",
      "2             Senior Care Community\n",
      "3        Non-Refrigerated Warehouse\n",
      "4                   Office, Parking\n",
      "Name: ListOfAllPropertyUseTypes, dtype: object\n"
     ]
    }
   ],
   "source": [
    "print(new_df['ListOfAllPropertyUseTypes'].head())"
   ]
  },
  {
   "cell_type": "code",
   "execution_count": 75,
   "metadata": {},
   "outputs": [],
   "source": [
    "# Delete irrelevant variables\n",
    "new_df.drop(\n",
    "    [\n",
    "        'DataYear',\n",
    "        'ListOfAllPropertyUseTypes',\n",
    "        'SourceEUI(kBtu/sf)',\n",
    "        'SiteEUI(kBtu/sf)',\n",
    "        'TaxParcelIdentificationNumber',\n",
    "        'YearsENERGYSTARCertified',\n",
    "        'GHGEmissionsIntensity',\n",
    "        'Latitude',\n",
    "        'Longitude',\n",
    "        'Address',\n",
    "        'PropertyName'\n",
    "    ],\n",
    "    inplace = True, \n",
    "    axis = 1\n",
    ")"
   ]
  },
  {
   "cell_type": "code",
   "execution_count": 76,
   "metadata": {},
   "outputs": [
    {
     "data": {
      "text/plain": [
       "['OSEBuildingID',\n",
       " 'BuildingType',\n",
       " 'PrimaryPropertyType',\n",
       " 'CouncilDistrictCode',\n",
       " 'YearBuilt',\n",
       " 'NumberofBuildings',\n",
       " 'NumberofFloors',\n",
       " 'PropertyGFATotal',\n",
       " 'PropertyGFAParking',\n",
       " 'PropertyGFABuilding(s)',\n",
       " 'ENERGYSTARScore',\n",
       " 'SiteEnergyUse(kBtu)',\n",
       " 'SteamUse(kBtu)',\n",
       " 'Electricity(kWh)',\n",
       " 'NaturalGas(kBtu)',\n",
       " 'TotalGHGEmissions',\n",
       " 'Other - Public Services',\n",
       " 'Residence Hall/Dormitory',\n",
       " 'Adult Education',\n",
       " 'Fast Food Restaurant',\n",
       " 'Data Center',\n",
       " 'Other - Services',\n",
       " 'Library',\n",
       " 'Personal Services (Health/Beauty, Dry Cleaning, etc)',\n",
       " 'Bar/Nightclub',\n",
       " 'Self-Storage Facility',\n",
       " 'Urgent Care/Clinic/Other Outpatient',\n",
       " 'Strip Mall',\n",
       " 'Non-Refrigerated Warehouse',\n",
       " 'Lifestyle Center',\n",
       " 'Police Station',\n",
       " 'Fire Station',\n",
       " 'Prison/Incarceration',\n",
       " 'Senior Care Community',\n",
       " 'Performing Arts',\n",
       " 'Refrigerated Warehouse',\n",
       " 'Pre-school/Daycare',\n",
       " 'Other - Utility',\n",
       " 'College/University',\n",
       " 'Supermarket/Grocery Store',\n",
       " 'Residential Care Facility',\n",
       " 'Parking',\n",
       " 'Financial Office',\n",
       " 'Convention Center',\n",
       " 'Restaurant',\n",
       " 'Food Sales',\n",
       " 'Office',\n",
       " 'K-12 School',\n",
       " 'Other/Specialty Hospital',\n",
       " 'Social/Meeting Hall',\n",
       " 'Vocational School',\n",
       " 'Automobile Dealership',\n",
       " 'Hospital (General Medical & Surgical)',\n",
       " 'Convenience Store without Gas Station',\n",
       " 'Retail Store',\n",
       " 'Enclosed Mall',\n",
       " 'Multifamily Housing',\n",
       " 'Other - Restaurant/Bar',\n",
       " 'Other - Lodging/Residential',\n",
       " 'Other - Recreation',\n",
       " 'Worship Facility',\n",
       " 'Hotel',\n",
       " 'Other',\n",
       " 'Movie Theater',\n",
       " 'Other - Mall',\n",
       " 'Medical Office',\n",
       " 'Distribution Center',\n",
       " 'Wholesale Club/Supercenter',\n",
       " 'Repair Services (Vehicle, Shoe, Locksmith, etc)',\n",
       " 'Swimming Pool',\n",
       " 'Manufacturing/Industrial Plant',\n",
       " 'Museum',\n",
       " 'Outpatient Rehabilitation/Physical Therapy',\n",
       " 'Bank Branch',\n",
       " 'Food Service',\n",
       " 'Other - Entertainment/Public Assembly',\n",
       " 'Other - Technology/Science',\n",
       " 'Courthouse',\n",
       " 'Other - Education',\n",
       " 'Laboratory',\n",
       " 'Fitness Center/Health Club/Gym']"
      ]
     },
     "execution_count": 76,
     "metadata": {},
     "output_type": "execute_result"
    }
   ],
   "source": [
    "new_df.columns.tolist()"
   ]
  },
  {
   "cell_type": "markdown",
   "metadata": {},
   "source": [
    "### Transform year built to ancient, middle aged or recent, according the 3 normal distributions seen previously"
   ]
  },
  {
   "cell_type": "code",
   "execution_count": 77,
   "metadata": {},
   "outputs": [
    {
     "data": {
      "text/plain": [
       "0"
      ]
     },
     "execution_count": 77,
     "metadata": {},
     "output_type": "execute_result"
    }
   ],
   "source": [
    "new_df['YearBuilt'].isnull().sum()"
   ]
  },
  {
   "cell_type": "code",
   "execution_count": 78,
   "metadata": {},
   "outputs": [],
   "source": [
    "importlib.reload(utils)\n",
    "\n",
    "new_df['YearBuilt'] = utils.transform_year_built(new_df['YearBuilt'])"
   ]
  },
  {
   "cell_type": "code",
   "execution_count": 79,
   "metadata": {},
   "outputs": [
    {
     "data": {
      "text/plain": [
       "array([1, 2, 3], dtype=int64)"
      ]
     },
     "execution_count": 79,
     "metadata": {},
     "output_type": "execute_result"
    }
   ],
   "source": [
    "new_df['YearBuilt'].unique()"
   ]
  },
  {
   "cell_type": "markdown",
   "metadata": {},
   "source": [
    "### Transform quantity of energy type used to a binary variable (1 if building uses the type of energy, 0 otherwise)"
   ]
  },
  {
   "cell_type": "code",
   "execution_count": 80,
   "metadata": {},
   "outputs": [],
   "source": [
    "importlib.reload(utils)\n",
    "new_df['SteamUse(kBtu)'] = utils.transform_energy_type_use(new_df['SteamUse(kBtu)'])\n",
    "new_df['NaturalGas(kBtu)'] = utils.transform_energy_type_use(new_df['NaturalGas(kBtu)'])\n",
    "new_df['Electricity(kWh)'] = utils.transform_energy_type_use(new_df['Electricity(kWh)'])"
   ]
  },
  {
   "cell_type": "code",
   "execution_count": 81,
   "metadata": {},
   "outputs": [
    {
     "name": "stdout",
     "output_type": "stream",
     "text": [
      "      Electricity(kWh)  SteamUse(kBtu)  NaturalGas(kBtu)  SiteEnergyUse(kBtu)\n",
      "0                    1               1                 1         6.981428e+06\n",
      "1                    1               0                 1         1.087950e+05\n",
      "2                    1               0                 1         1.178872e+07\n",
      "3                    1               0                 0         9.418600e+04\n",
      "4                    1               0                 0         3.293119e+06\n",
      "...                ...             ...               ...                  ...\n",
      "3308                 1               0                 0         4.526125e+05\n",
      "3309                 1               0                 1         1.778432e+06\n",
      "3310                 1               0                 1         1.787119e+06\n",
      "3311                 1               0                 1         1.326178e+06\n",
      "3312                 1               0                 1         1.152896e+06\n",
      "\n",
      "[3313 rows x 4 columns]\n"
     ]
    }
   ],
   "source": [
    "print(new_df[['Electricity(kWh)', 'SteamUse(kBtu)', 'NaturalGas(kBtu)', 'SiteEnergyUse(kBtu)']])"
   ]
  },
  {
   "cell_type": "code",
   "execution_count": 82,
   "metadata": {},
   "outputs": [],
   "source": [
    "new_df.drop(new_df.loc[new_df['SiteEnergyUse(kBtu)'].isna(), :].index, inplace = True)"
   ]
  },
  {
   "cell_type": "code",
   "execution_count": 83,
   "metadata": {},
   "outputs": [
    {
     "name": "stdout",
     "output_type": "stream",
     "text": [
      "Electricity(kWh)       0\n",
      "SteamUse(kBtu)         0\n",
      "NaturalGas(kBtu)       0\n",
      "SiteEnergyUse(kBtu)    0\n",
      "dtype: int64\n"
     ]
    }
   ],
   "source": [
    "print(new_df[['Electricity(kWh)', 'SteamUse(kBtu)', 'NaturalGas(kBtu)', 'SiteEnergyUse(kBtu)']].isnull().sum())"
   ]
  },
  {
   "cell_type": "code",
   "execution_count": 84,
   "metadata": {},
   "outputs": [],
   "source": [
    "new_df.to_csv(r'E:/OpenClassrooms/Projet4/building_energy_benchmark_2015-2016_engineered_v1.csv', index = False)"
   ]
  },
  {
   "cell_type": "markdown",
   "metadata": {},
   "source": [
    "### Same buildings measured twice (in 2015 and 2016) -> average of the two measures if different"
   ]
  },
  {
   "cell_type": "code",
   "execution_count": 85,
   "metadata": {},
   "outputs": [],
   "source": [
    "df = pd.read_csv(os.path.join(\"E:/OpenClassrooms/Projet4\", \"building_energy_benchmark_2015-2016_engineered_v1.csv\"), low_memory = False)"
   ]
  },
  {
   "cell_type": "code",
   "execution_count": 86,
   "metadata": {},
   "outputs": [],
   "source": [
    "# List of features that must not be averaged if different over the 2 years\n",
    "\n",
    "List_non_meaned = [\n",
    "    'OSEBuildingID',\n",
    "    'BuildingType',\n",
    "    'PrimaryPropertyType',\n",
    "    'CouncilDistrictCode',\n",
    "    'YearBuilt'\n",
    "    ]"
   ]
  },
  {
   "cell_type": "code",
   "execution_count": 87,
   "metadata": {},
   "outputs": [],
   "source": [
    "# List of feature that must be averaged\n",
    "# Keep Building ID to identify the buildings\n",
    "List_meaned = ['OSEBuildingID'] + [elt for elt in df.columns if elt not in List_non_meaned]"
   ]
  },
  {
   "cell_type": "code",
   "execution_count": 88,
   "metadata": {},
   "outputs": [],
   "source": [
    "mean_df = df[List_meaned].groupby('OSEBuildingID').mean()"
   ]
  },
  {
   "cell_type": "code",
   "execution_count": 89,
   "metadata": {},
   "outputs": [
    {
     "data": {
      "text/plain": [
       "(1696, 76)"
      ]
     },
     "execution_count": 89,
     "metadata": {},
     "output_type": "execute_result"
    }
   ],
   "source": [
    "mean_df.shape"
   ]
  },
  {
   "cell_type": "code",
   "execution_count": 90,
   "metadata": {},
   "outputs": [],
   "source": [
    "importlib.reload(utils)\n",
    "#We keep the first measure for the non-averaged features\n",
    "non_mean_df = df[List_non_meaned].groupby('OSEBuildingID').apply(utils.get_first_row)"
   ]
  },
  {
   "cell_type": "code",
   "execution_count": 91,
   "metadata": {},
   "outputs": [
    {
     "data": {
      "text/plain": [
       "(1696, 5)"
      ]
     },
     "execution_count": 91,
     "metadata": {},
     "output_type": "execute_result"
    }
   ],
   "source": [
    "non_mean_df.shape"
   ]
  },
  {
   "cell_type": "code",
   "execution_count": 92,
   "metadata": {},
   "outputs": [],
   "source": [
    "df = pd.concat([mean_df, non_mean_df], axis = 1)"
   ]
  },
  {
   "cell_type": "code",
   "execution_count": 93,
   "metadata": {},
   "outputs": [],
   "source": [
    "df.drop('OSEBuildingID', axis = 1, inplace = True)"
   ]
  },
  {
   "cell_type": "code",
   "execution_count": 94,
   "metadata": {},
   "outputs": [],
   "source": [
    "df = df.drop(['PrimaryPropertyType', 'BuildingType'], axis = 1)"
   ]
  },
  {
   "cell_type": "code",
   "execution_count": 95,
   "metadata": {},
   "outputs": [
    {
     "data": {
      "text/html": [
       "<div>\n",
       "<style scoped>\n",
       "    .dataframe tbody tr th:only-of-type {\n",
       "        vertical-align: middle;\n",
       "    }\n",
       "\n",
       "    .dataframe tbody tr th {\n",
       "        vertical-align: top;\n",
       "    }\n",
       "\n",
       "    .dataframe thead th {\n",
       "        text-align: right;\n",
       "    }\n",
       "</style>\n",
       "<table border=\"1\" class=\"dataframe\">\n",
       "  <thead>\n",
       "    <tr style=\"text-align: right;\">\n",
       "      <th></th>\n",
       "      <th>NumberofBuildings</th>\n",
       "      <th>NumberofFloors</th>\n",
       "      <th>PropertyGFATotal</th>\n",
       "      <th>PropertyGFAParking</th>\n",
       "      <th>PropertyGFABuilding(s)</th>\n",
       "      <th>ENERGYSTARScore</th>\n",
       "      <th>SiteEnergyUse(kBtu)</th>\n",
       "      <th>SteamUse(kBtu)</th>\n",
       "      <th>Electricity(kWh)</th>\n",
       "      <th>NaturalGas(kBtu)</th>\n",
       "      <th>...</th>\n",
       "      <th>Bank Branch</th>\n",
       "      <th>Food Service</th>\n",
       "      <th>Other - Entertainment/Public Assembly</th>\n",
       "      <th>Other - Technology/Science</th>\n",
       "      <th>Courthouse</th>\n",
       "      <th>Other - Education</th>\n",
       "      <th>Laboratory</th>\n",
       "      <th>Fitness Center/Health Club/Gym</th>\n",
       "      <th>CouncilDistrictCode</th>\n",
       "      <th>YearBuilt</th>\n",
       "    </tr>\n",
       "    <tr>\n",
       "      <th>OSEBuildingID</th>\n",
       "      <th></th>\n",
       "      <th></th>\n",
       "      <th></th>\n",
       "      <th></th>\n",
       "      <th></th>\n",
       "      <th></th>\n",
       "      <th></th>\n",
       "      <th></th>\n",
       "      <th></th>\n",
       "      <th></th>\n",
       "      <th></th>\n",
       "      <th></th>\n",
       "      <th></th>\n",
       "      <th></th>\n",
       "      <th></th>\n",
       "      <th></th>\n",
       "      <th></th>\n",
       "      <th></th>\n",
       "      <th></th>\n",
       "      <th></th>\n",
       "      <th></th>\n",
       "    </tr>\n",
       "  </thead>\n",
       "  <tbody>\n",
       "    <tr>\n",
       "      <th>1</th>\n",
       "      <td>1.0</td>\n",
       "      <td>12.0</td>\n",
       "      <td>88434.0</td>\n",
       "      <td>0.0</td>\n",
       "      <td>88434.0</td>\n",
       "      <td>62.5</td>\n",
       "      <td>7103895.25</td>\n",
       "      <td>1.0</td>\n",
       "      <td>1.0</td>\n",
       "      <td>1.0</td>\n",
       "      <td>...</td>\n",
       "      <td>0.0</td>\n",
       "      <td>0.0</td>\n",
       "      <td>0.0</td>\n",
       "      <td>0.0</td>\n",
       "      <td>0.0</td>\n",
       "      <td>0.0</td>\n",
       "      <td>0.0</td>\n",
       "      <td>0.0</td>\n",
       "      <td>7</td>\n",
       "      <td>1</td>\n",
       "    </tr>\n",
       "    <tr>\n",
       "      <th>2</th>\n",
       "      <td>1.0</td>\n",
       "      <td>11.0</td>\n",
       "      <td>103566.0</td>\n",
       "      <td>15064.0</td>\n",
       "      <td>88502.0</td>\n",
       "      <td>56.0</td>\n",
       "      <td>8371084.00</td>\n",
       "      <td>0.0</td>\n",
       "      <td>1.0</td>\n",
       "      <td>1.0</td>\n",
       "      <td>...</td>\n",
       "      <td>0.0</td>\n",
       "      <td>0.0</td>\n",
       "      <td>0.0</td>\n",
       "      <td>0.0</td>\n",
       "      <td>0.0</td>\n",
       "      <td>0.0</td>\n",
       "      <td>0.0</td>\n",
       "      <td>0.0</td>\n",
       "      <td>7</td>\n",
       "      <td>3</td>\n",
       "    </tr>\n",
       "    <tr>\n",
       "      <th>3</th>\n",
       "      <td>1.0</td>\n",
       "      <td>41.0</td>\n",
       "      <td>959050.0</td>\n",
       "      <td>98359.0</td>\n",
       "      <td>860691.0</td>\n",
       "      <td>30.5</td>\n",
       "      <td>72858840.00</td>\n",
       "      <td>1.0</td>\n",
       "      <td>1.0</td>\n",
       "      <td>1.0</td>\n",
       "      <td>...</td>\n",
       "      <td>0.0</td>\n",
       "      <td>0.0</td>\n",
       "      <td>0.0</td>\n",
       "      <td>0.0</td>\n",
       "      <td>0.0</td>\n",
       "      <td>0.0</td>\n",
       "      <td>0.0</td>\n",
       "      <td>0.0</td>\n",
       "      <td>7</td>\n",
       "      <td>2</td>\n",
       "    </tr>\n",
       "    <tr>\n",
       "      <th>5</th>\n",
       "      <td>1.0</td>\n",
       "      <td>10.0</td>\n",
       "      <td>61320.0</td>\n",
       "      <td>0.0</td>\n",
       "      <td>61320.0</td>\n",
       "      <td>28.5</td>\n",
       "      <td>17511952.00</td>\n",
       "      <td>1.0</td>\n",
       "      <td>1.0</td>\n",
       "      <td>1.0</td>\n",
       "      <td>...</td>\n",
       "      <td>0.0</td>\n",
       "      <td>0.0</td>\n",
       "      <td>0.0</td>\n",
       "      <td>0.0</td>\n",
       "      <td>0.0</td>\n",
       "      <td>0.0</td>\n",
       "      <td>0.0</td>\n",
       "      <td>0.0</td>\n",
       "      <td>7</td>\n",
       "      <td>1</td>\n",
       "    </tr>\n",
       "    <tr>\n",
       "      <th>8</th>\n",
       "      <td>1.0</td>\n",
       "      <td>18.0</td>\n",
       "      <td>147735.0</td>\n",
       "      <td>37230.0</td>\n",
       "      <td>110505.0</td>\n",
       "      <td>71.0</td>\n",
       "      <td>14500852.50</td>\n",
       "      <td>0.0</td>\n",
       "      <td>1.0</td>\n",
       "      <td>1.0</td>\n",
       "      <td>...</td>\n",
       "      <td>0.0</td>\n",
       "      <td>0.0</td>\n",
       "      <td>0.0</td>\n",
       "      <td>0.0</td>\n",
       "      <td>0.0</td>\n",
       "      <td>0.0</td>\n",
       "      <td>0.0</td>\n",
       "      <td>0.0</td>\n",
       "      <td>7</td>\n",
       "      <td>2</td>\n",
       "    </tr>\n",
       "  </tbody>\n",
       "</table>\n",
       "<p>5 rows × 78 columns</p>\n",
       "</div>"
      ],
      "text/plain": [
       "               NumberofBuildings  NumberofFloors  PropertyGFATotal  \\\n",
       "OSEBuildingID                                                        \n",
       "1                            1.0            12.0           88434.0   \n",
       "2                            1.0            11.0          103566.0   \n",
       "3                            1.0            41.0          959050.0   \n",
       "5                            1.0            10.0           61320.0   \n",
       "8                            1.0            18.0          147735.0   \n",
       "\n",
       "               PropertyGFAParking  PropertyGFABuilding(s)  ENERGYSTARScore  \\\n",
       "OSEBuildingID                                                                \n",
       "1                             0.0                 88434.0             62.5   \n",
       "2                         15064.0                 88502.0             56.0   \n",
       "3                         98359.0                860691.0             30.5   \n",
       "5                             0.0                 61320.0             28.5   \n",
       "8                         37230.0                110505.0             71.0   \n",
       "\n",
       "               SiteEnergyUse(kBtu)  SteamUse(kBtu)  Electricity(kWh)  \\\n",
       "OSEBuildingID                                                          \n",
       "1                       7103895.25             1.0               1.0   \n",
       "2                       8371084.00             0.0               1.0   \n",
       "3                      72858840.00             1.0               1.0   \n",
       "5                      17511952.00             1.0               1.0   \n",
       "8                      14500852.50             0.0               1.0   \n",
       "\n",
       "               NaturalGas(kBtu)  ...  Bank Branch  Food Service  \\\n",
       "OSEBuildingID                    ...                              \n",
       "1                           1.0  ...          0.0           0.0   \n",
       "2                           1.0  ...          0.0           0.0   \n",
       "3                           1.0  ...          0.0           0.0   \n",
       "5                           1.0  ...          0.0           0.0   \n",
       "8                           1.0  ...          0.0           0.0   \n",
       "\n",
       "               Other - Entertainment/Public Assembly  \\\n",
       "OSEBuildingID                                          \n",
       "1                                                0.0   \n",
       "2                                                0.0   \n",
       "3                                                0.0   \n",
       "5                                                0.0   \n",
       "8                                                0.0   \n",
       "\n",
       "               Other - Technology/Science  Courthouse  Other - Education  \\\n",
       "OSEBuildingID                                                              \n",
       "1                                     0.0         0.0                0.0   \n",
       "2                                     0.0         0.0                0.0   \n",
       "3                                     0.0         0.0                0.0   \n",
       "5                                     0.0         0.0                0.0   \n",
       "8                                     0.0         0.0                0.0   \n",
       "\n",
       "               Laboratory  Fitness Center/Health Club/Gym  \\\n",
       "OSEBuildingID                                               \n",
       "1                     0.0                             0.0   \n",
       "2                     0.0                             0.0   \n",
       "3                     0.0                             0.0   \n",
       "5                     0.0                             0.0   \n",
       "8                     0.0                             0.0   \n",
       "\n",
       "               CouncilDistrictCode  YearBuilt  \n",
       "OSEBuildingID                                  \n",
       "1                                7          1  \n",
       "2                                7          3  \n",
       "3                                7          2  \n",
       "5                                7          1  \n",
       "8                                7          2  \n",
       "\n",
       "[5 rows x 78 columns]"
      ]
     },
     "execution_count": 95,
     "metadata": {},
     "output_type": "execute_result"
    }
   ],
   "source": [
    "df.head()"
   ]
  },
  {
   "cell_type": "code",
   "execution_count": 96,
   "metadata": {},
   "outputs": [],
   "source": [
    "df.to_csv(r'E:/OpenClassrooms/Projet4/building_energy_benchmark_2015-2016_engineered_v2.csv', index = False)"
   ]
  }
 ],
 "metadata": {
  "kernelspec": {
   "display_name": "Python 3.8.5 ('base')",
   "language": "python",
   "name": "python3"
  },
  "language_info": {
   "codemirror_mode": {
    "name": "ipython",
    "version": 3
   },
   "file_extension": ".py",
   "mimetype": "text/x-python",
   "name": "python",
   "nbconvert_exporter": "python",
   "pygments_lexer": "ipython3",
   "version": "3.8.5"
  },
  "vscode": {
   "interpreter": {
    "hash": "91bb753b057673435fb8d6f6a083e6c818364728098c7ae050ca3a25357dd754"
   }
  }
 },
 "nbformat": 4,
 "nbformat_minor": 4
}
